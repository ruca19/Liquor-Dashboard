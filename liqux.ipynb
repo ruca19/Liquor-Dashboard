{
 "cells": [
  {
   "cell_type": "code",
   "execution_count": 2,
   "metadata": {},
   "outputs": [],
   "source": [
    "import pandas as pd\n",
    "import matplotlib.pyplot as plt\n",
    "import numpy as np\n",
    "import seaborn as sns"
   ]
  },
  {
   "cell_type": "code",
   "execution_count": 3,
   "metadata": {},
   "outputs": [
    {
     "name": "stderr",
     "output_type": "stream",
     "text": [
      "C:\\Users\\jorge\\AppData\\Local\\Temp\\ipykernel_7924\\3609158165.py:1: DtypeWarning: Columns (6) have mixed types. Specify dtype option on import or set low_memory=False.\n",
      "  df = pd.read_csv(\"kaggle\\_Iowa Liquor Sales\\Iowa_Liquor_Sales.csv\", encoding=\"latin1\")\n"
     ]
    },
    {
     "data": {
      "text/html": [
       "<div>\n",
       "<style scoped>\n",
       "    .dataframe tbody tr th:only-of-type {\n",
       "        vertical-align: middle;\n",
       "    }\n",
       "\n",
       "    .dataframe tbody tr th {\n",
       "        vertical-align: top;\n",
       "    }\n",
       "\n",
       "    .dataframe thead th {\n",
       "        text-align: right;\n",
       "    }\n",
       "</style>\n",
       "<table border=\"1\" class=\"dataframe\">\n",
       "  <thead>\n",
       "    <tr style=\"text-align: right;\">\n",
       "      <th></th>\n",
       "      <th>Invoice/Item Number</th>\n",
       "      <th>Date</th>\n",
       "      <th>Store Number</th>\n",
       "      <th>Store Name</th>\n",
       "      <th>Address</th>\n",
       "      <th>City</th>\n",
       "      <th>Zip Code</th>\n",
       "      <th>Store Location</th>\n",
       "      <th>County Number</th>\n",
       "      <th>County</th>\n",
       "      <th>...</th>\n",
       "      <th>Item Number</th>\n",
       "      <th>Item Description</th>\n",
       "      <th>Pack</th>\n",
       "      <th>Bottle Volume (ml)</th>\n",
       "      <th>State Bottle Cost</th>\n",
       "      <th>State Bottle Retail</th>\n",
       "      <th>Bottles Sold</th>\n",
       "      <th>Sale (Dollars)</th>\n",
       "      <th>Volume Sold (Liters)</th>\n",
       "      <th>Volume Sold (Gallons)</th>\n",
       "    </tr>\n",
       "  </thead>\n",
       "  <tbody>\n",
       "    <tr>\n",
       "      <th>6336436</th>\n",
       "      <td>S18767300009</td>\n",
       "      <td>05/05/2014</td>\n",
       "      <td>4104</td>\n",
       "      <td>Fareway Stores #491 / Mason City</td>\n",
       "      <td>400 NORTH DELAWARE AVE</td>\n",
       "      <td>MASON CITY</td>\n",
       "      <td>50401</td>\n",
       "      <td>400 NORTH DELAWARE AVE\\nMASON CITY 50401\\n(43....</td>\n",
       "      <td>17.0</td>\n",
       "      <td>Cerro Gordo</td>\n",
       "      <td>...</td>\n",
       "      <td>45887</td>\n",
       "      <td>Sailor Jerry Spiced Navy Rum</td>\n",
       "      <td>12</td>\n",
       "      <td>1000</td>\n",
       "      <td>$11.78</td>\n",
       "      <td>$17.67</td>\n",
       "      <td>12</td>\n",
       "      <td>$212.04</td>\n",
       "      <td>12.0</td>\n",
       "      <td>3.17</td>\n",
       "    </tr>\n",
       "  </tbody>\n",
       "</table>\n",
       "<p>1 rows × 24 columns</p>\n",
       "</div>"
      ],
      "text/plain": [
       "        Invoice/Item Number        Date  Store Number  \\\n",
       "6336436        S18767300009  05/05/2014          4104   \n",
       "\n",
       "                               Store Name                 Address        City  \\\n",
       "6336436  Fareway Stores #491 / Mason City  400 NORTH DELAWARE AVE  MASON CITY   \n",
       "\n",
       "        Zip Code                                     Store Location  \\\n",
       "6336436    50401  400 NORTH DELAWARE AVE\\nMASON CITY 50401\\n(43....   \n",
       "\n",
       "         County Number       County  ...  Item Number  \\\n",
       "6336436           17.0  Cerro Gordo  ...        45887   \n",
       "\n",
       "                     Item Description  Pack Bottle Volume (ml)  \\\n",
       "6336436  Sailor Jerry Spiced Navy Rum    12               1000   \n",
       "\n",
       "         State Bottle Cost State Bottle Retail  Bottles Sold  Sale (Dollars)  \\\n",
       "6336436             $11.78              $17.67            12         $212.04   \n",
       "\n",
       "        Volume Sold (Liters) Volume Sold (Gallons)  \n",
       "6336436                 12.0                  3.17  \n",
       "\n",
       "[1 rows x 24 columns]"
      ]
     },
     "execution_count": 3,
     "metadata": {},
     "output_type": "execute_result"
    }
   ],
   "source": [
    "df = pd.read_csv(\"kaggle\\_Iowa Liquor Sales\\Iowa_Liquor_Sales.csv\", encoding=\"latin1\")\n",
    "df.sample(1)"
   ]
  },
  {
   "cell_type": "code",
   "execution_count": 4,
   "metadata": {},
   "outputs": [
    {
     "data": {
      "text/plain": [
       "Index(['Invoice/Item Number', 'Date', 'Store Number', 'Store Name', 'Address',\n",
       "       'City', 'Zip Code', 'Store Location', 'County Number', 'County',\n",
       "       'Category', 'Category Name', 'Vendor Number', 'Vendor Name',\n",
       "       'Item Number', 'Item Description', 'Pack', 'Bottle Volume (ml)',\n",
       "       'State Bottle Cost', 'State Bottle Retail', 'Bottles Sold',\n",
       "       'Sale (Dollars)', 'Volume Sold (Liters)', 'Volume Sold (Gallons)'],\n",
       "      dtype='object')"
      ]
     },
     "execution_count": 4,
     "metadata": {},
     "output_type": "execute_result"
    }
   ],
   "source": [
    "df.columns"
   ]
  },
  {
   "cell_type": "markdown",
   "metadata": {},
   "source": [
    "FACT VENTA"
   ]
  },
  {
   "cell_type": "code",
   "execution_count": 5,
   "metadata": {},
   "outputs": [
    {
     "data": {
      "text/html": [
       "<div>\n",
       "<style scoped>\n",
       "    .dataframe tbody tr th:only-of-type {\n",
       "        vertical-align: middle;\n",
       "    }\n",
       "\n",
       "    .dataframe tbody tr th {\n",
       "        vertical-align: top;\n",
       "    }\n",
       "\n",
       "    .dataframe thead th {\n",
       "        text-align: right;\n",
       "    }\n",
       "</style>\n",
       "<table border=\"1\" class=\"dataframe\">\n",
       "  <thead>\n",
       "    <tr style=\"text-align: right;\">\n",
       "      <th></th>\n",
       "      <th>Invoice/Item Number</th>\n",
       "      <th>Date</th>\n",
       "      <th>Store Number</th>\n",
       "      <th>Item Number</th>\n",
       "      <th>Bottles Sold</th>\n",
       "    </tr>\n",
       "  </thead>\n",
       "  <tbody>\n",
       "    <tr>\n",
       "      <th>6912036</th>\n",
       "      <td>S04681300039</td>\n",
       "      <td>03/21/2012</td>\n",
       "      <td>2566</td>\n",
       "      <td>54446</td>\n",
       "      <td>12</td>\n",
       "    </tr>\n",
       "  </tbody>\n",
       "</table>\n",
       "</div>"
      ],
      "text/plain": [
       "        Invoice/Item Number        Date  Store Number  Item Number  \\\n",
       "6912036        S04681300039  03/21/2012          2566        54446   \n",
       "\n",
       "         Bottles Sold  \n",
       "6912036            12  "
      ]
     },
     "execution_count": 5,
     "metadata": {},
     "output_type": "execute_result"
    }
   ],
   "source": [
    "Fact_Venta = df[[\"Invoice/Item Number\", \"Date\", \"Store Number\", \"Item Number\", \"Bottles Sold\"]]\n",
    "Fact_Venta.sample(1)"
   ]
  },
  {
   "cell_type": "code",
   "execution_count": 6,
   "metadata": {},
   "outputs": [
    {
     "name": "stdout",
     "output_type": "stream",
     "text": [
      "<class 'pandas.core.frame.DataFrame'>\n",
      "RangeIndex: 12591077 entries, 0 to 12591076\n",
      "Data columns (total 5 columns):\n",
      " #   Column               Dtype \n",
      "---  ------               ----- \n",
      " 0   Invoice/Item Number  object\n",
      " 1   Date                 object\n",
      " 2   Store Number         int64 \n",
      " 3   Item Number          int64 \n",
      " 4   Bottles Sold         int64 \n",
      "dtypes: int64(3), object(2)\n",
      "memory usage: 480.3+ MB\n"
     ]
    }
   ],
   "source": [
    "Fact_Venta.info()"
   ]
  },
  {
   "cell_type": "code",
   "execution_count": 7,
   "metadata": {},
   "outputs": [
    {
     "name": "stderr",
     "output_type": "stream",
     "text": [
      "C:\\Users\\jorge\\AppData\\Local\\Temp\\ipykernel_17544\\1176369374.py:2: SettingWithCopyWarning: \n",
      "A value is trying to be set on a copy of a slice from a DataFrame.\n",
      "Try using .loc[row_indexer,col_indexer] = value instead\n",
      "\n",
      "See the caveats in the documentation: https://pandas.pydata.org/pandas-docs/stable/user_guide/indexing.html#returning-a-view-versus-a-copy\n",
      "  Fact_Venta[\"Date\"] = pd.to_datetime(Fact_Venta[\"Date\"])\n"
     ]
    }
   ],
   "source": [
    "#Cambiar tipo de dato\n",
    "Fact_Venta[\"Date\"] = pd.to_datetime(Fact_Venta[\"Date\"])"
   ]
  },
  {
   "cell_type": "code",
   "execution_count": 8,
   "metadata": {},
   "outputs": [
    {
     "name": "stdout",
     "output_type": "stream",
     "text": [
      "<class 'pandas.core.frame.DataFrame'>\n",
      "RangeIndex: 12591077 entries, 0 to 12591076\n",
      "Data columns (total 5 columns):\n",
      " #   Column               Dtype         \n",
      "---  ------               -----         \n",
      " 0   Invoice/Item Number  object        \n",
      " 1   Date                 datetime64[ns]\n",
      " 2   Store Number         int64         \n",
      " 3   Item Number          int64         \n",
      " 4   Bottles Sold         int64         \n",
      "dtypes: datetime64[ns](1), int64(3), object(1)\n",
      "memory usage: 480.3+ MB\n"
     ]
    }
   ],
   "source": [
    "#Verificar si se cambio correctamente el tipo de dato\n",
    "Fact_Venta.info()"
   ]
  },
  {
   "cell_type": "code",
   "execution_count": 9,
   "metadata": {},
   "outputs": [
    {
     "data": {
      "text/plain": [
       "Invoice/Item Number    0\n",
       "Date                   0\n",
       "Store Number           0\n",
       "Item Number            0\n",
       "Bottles Sold           0\n",
       "dtype: int64"
      ]
     },
     "execution_count": 9,
     "metadata": {},
     "output_type": "execute_result"
    }
   ],
   "source": [
    "#Verificar si hay valores nulos\n",
    "Fact_Venta.isna().sum()"
   ]
  },
  {
   "cell_type": "code",
   "execution_count": 10,
   "metadata": {},
   "outputs": [
    {
     "name": "stderr",
     "output_type": "stream",
     "text": [
      "C:\\Users\\jorge\\AppData\\Local\\Temp\\ipykernel_17544\\1864184128.py:1: SettingWithCopyWarning: \n",
      "A value is trying to be set on a copy of a slice from a DataFrame\n",
      "\n",
      "See the caveats in the documentation: https://pandas.pydata.org/pandas-docs/stable/user_guide/indexing.html#returning-a-view-versus-a-copy\n",
      "  Fact_Venta.rename(columns={'Store Number': 'Id Tienda', 'Invoice/Item Number': 'Id Venta', \"Date\": \"Fecha\", \"Item Number\": \"Id Articulo\", \"Bottles Sold\": \"Botellas Vendidas\"}, inplace=True)\n"
     ]
    }
   ],
   "source": [
    "Fact_Venta.rename(columns={'Store Number': 'Id Tienda', 'Invoice/Item Number': 'Id Venta', \"Date\": \"Fecha\", \"Item Number\": \"Id Articulo\", \"Bottles Sold\": \"Botellas Vendidas\"}, inplace=True)"
   ]
  },
  {
   "cell_type": "code",
   "execution_count": 12,
   "metadata": {},
   "outputs": [
    {
     "name": "stdout",
     "output_type": "stream",
     "text": [
      "La fecha minima es 2012-01-03 00:00:00 y la fecha maxima es 2017-10-31 00:00:00\n"
     ]
    }
   ],
   "source": [
    "minimo = Fact_Venta[\"Fecha\"].min()\n",
    "maximo = Fact_Venta[\"Fecha\"].max()\n",
    "print(f\"La fecha minima es {minimo} y la fecha maxima es {maximo}\")"
   ]
  },
  {
   "cell_type": "code",
   "execution_count": 13,
   "metadata": {},
   "outputs": [],
   "source": [
    "def extraer_trimestres_año(df, columna_fecha, fecha_inicio, fecha_fin):\n",
    "    \"\"\"\n",
    "    Realiza una consulta sobre un DataFrame utilizando un rango de fechas con `BETWEEN`.\n",
    "\n",
    "    Args:\n",
    "        df (pd.DataFrame): El DataFrame con los datos.\n",
    "        columna_fecha (str): El nombre de la columna con las fechas.\n",
    "        fecha_inicio (str): La fecha de inicio para el filtro en formato 'YYYY-MM-DD'.\n",
    "        fecha_fin (str): La fecha de fin para el filtro en formato 'YYYY-MM-DD'.\n",
    "\n",
    "    Returns:\n",
    "        pd.DataFrame: DataFrame resultante de la consulta.\n",
    "    \"\"\"\n",
    "    \n",
    "    # Asegurarse de que la columna de fechas esté en formato datetime\n",
    "    #df[columna_fecha] = pd.to_datetime(df[columna_fecha])   ## Si no esta en datetime la columna fecha quitar el #\n",
    "\n",
    "    # Crear el filtro para el query con BETWEEN\n",
    "    consulta = f\"{columna_fecha} >= '{fecha_inicio}' and {columna_fecha} <= '{fecha_fin}'\"\n",
    "    \n",
    "    # Aplicar el query con pandas\n",
    "    resultado = df.query(consulta)\n",
    "\n",
    "    return resultado"
   ]
  },
  {
   "cell_type": "code",
   "execution_count": 14,
   "metadata": {},
   "outputs": [],
   "source": [
    "#Estraer Trimestres\n",
    "#Año 2012\n",
    "Tr1_2012 = extraer_trimestres_año(Fact_Venta, \"Fecha\", \"2012-01-01\", \"2012-03-31\")\n",
    "Tr2_2012 = extraer_trimestres_año(Fact_Venta, \"Fecha\", \"2012-04-01\", \"2012-06-30\")\n",
    "Tr3_2012 = extraer_trimestres_año(Fact_Venta, \"Fecha\", \"2012-07-01\", \"2012-09-30\")\n",
    "Tr4_2012 = extraer_trimestres_año(Fact_Venta, \"Fecha\", \"2012-10-01\", \"2012-12-31\")\n",
    "\n",
    "#Año 2013\n",
    "Tr1_2013 = extraer_trimestres_año(Fact_Venta, \"Fecha\", \"2013-01-01\", \"2013-03-31\")\n",
    "Tr2_2013 = extraer_trimestres_año(Fact_Venta, \"Fecha\", \"2013-04-01\", \"2013-06-30\")\n",
    "Tr3_2013 = extraer_trimestres_año(Fact_Venta, \"Fecha\", \"2013-07-01\", \"2013-09-30\")\n",
    "Tr4_2013 = extraer_trimestres_año(Fact_Venta, \"Fecha\", \"2013-10-01\", \"2013-12-31\")\n",
    "\n",
    "#Año 2014\n",
    "Tr1_2014 = extraer_trimestres_año(Fact_Venta, \"Fecha\", \"2014-01-01\", \"2014-03-31\")\n",
    "Tr2_2014 = extraer_trimestres_año(Fact_Venta, \"Fecha\", \"2014-04-01\", \"2014-06-30\")\n",
    "Tr3_2014 = extraer_trimestres_año(Fact_Venta, \"Fecha\", \"2014-07-01\", \"2014-09-30\")\n",
    "Tr4_2014 = extraer_trimestres_año(Fact_Venta, \"Fecha\", \"2014-10-01\", \"2014-12-31\")"
   ]
  },
  {
   "cell_type": "code",
   "execution_count": 15,
   "metadata": {},
   "outputs": [],
   "source": [
    "#Extraer trimestres\n",
    "#Año 2015\n",
    "Tr1_2015 = extraer_trimestres_año(Fact_Venta, \"Fecha\", \"2015-01-01\", \"2015-03-31\")\n",
    "Tr2_2015 = extraer_trimestres_año(Fact_Venta, \"Fecha\", \"2015-04-01\", \"2015-06-30\")\n",
    "Tr3_2015 = extraer_trimestres_año(Fact_Venta, \"Fecha\", \"2015-07-01\", \"2015-09-30\")\n",
    "Tr4_2015 = extraer_trimestres_año(Fact_Venta, \"Fecha\", \"2015-10-01\", \"2015-12-31\")\n",
    "\n",
    "#Año 2016\n",
    "Tr1_2016 = extraer_trimestres_año(Fact_Venta, \"Fecha\", \"2016-01-01\", \"2016-03-31\")\n",
    "Tr2_2016 = extraer_trimestres_año(Fact_Venta, \"Fecha\", \"2016-04-01\", \"2016-06-30\")\n",
    "Tr3_2016 = extraer_trimestres_año(Fact_Venta, \"Fecha\", \"2016-07-01\", \"2016-09-30\")\n",
    "Tr4_2016 = extraer_trimestres_año(Fact_Venta, \"Fecha\", \"2016-10-01\", \"2016-12-31\")\n",
    "\n",
    "#Año 2017\n",
    "Tr1_2017 = extraer_trimestres_año(Fact_Venta, \"Fecha\", \"2017-01-01\", \"2017-03-31\")\n",
    "Tr2_2017 = extraer_trimestres_año(Fact_Venta, \"Fecha\", \"2017-04-01\", \"2017-06-30\")\n",
    "Tr3_2017 = extraer_trimestres_año(Fact_Venta, \"Fecha\", \"2017-07-01\", \"2017-09-30\")\n",
    "Tr4_2017 = extraer_trimestres_año(Fact_Venta, \"Fecha\", \"2017-10-01\", \"2017-12-31\")"
   ]
  },
  {
   "cell_type": "code",
   "execution_count": 16,
   "metadata": {},
   "outputs": [],
   "source": [
    "#2012\n",
    "Tr1_2012.to_csv(\"Bd/Fact_Venta/2012/T1_2012.csv\", index=False) \n",
    "Tr2_2012.to_csv(\"Bd/Fact_Venta/2012/T2_2012.csv\", index=False) \n",
    "Tr3_2012.to_csv(\"Bd/Fact_Venta/2012/T3_2012.csv\", index=False) \n",
    "Tr4_2012.to_csv(\"Bd/Fact_Venta/2012/T4_2012.csv\", index=False) \n",
    "\n",
    "#2013\n",
    "Tr1_2013.to_csv(\"Bd/Fact_Venta/2013/T1_2013.csv\", index=False)\n",
    "Tr2_2013.to_csv(\"Bd/Fact_Venta/2013/T2_2013.csv\", index=False) \n",
    "Tr3_2013.to_csv(\"Bd/Fact_Venta/2013/T3_2013.csv\", index=False) \n",
    "Tr4_2013.to_csv(\"Bd/Fact_Venta/2013/T4_2013.csv\", index=False) \n",
    "\n",
    "#2012\n",
    "Tr1_2014.to_csv(\"Bd/Fact_Venta/2014/T1_2014.csv\", index=False) \n",
    "Tr2_2014.to_csv(\"Bd/Fact_Venta/2014/T2_2014.csv\", index=False) \n",
    "Tr3_2014.to_csv(\"Bd/Fact_Venta/2014/T3_2014.csv\", index=False) \n",
    "Tr4_2014.to_csv(\"Bd/Fact_Venta/2014/T4_2014.csv\", index=False) "
   ]
  },
  {
   "cell_type": "code",
   "execution_count": 17,
   "metadata": {},
   "outputs": [],
   "source": [
    "#2015\n",
    "Tr1_2015.to_csv(\"Bd/Fact_Venta/2015/T1_2015.csv\", index=False) \n",
    "Tr2_2015.to_csv(\"Bd/Fact_Venta/2015/T2_2015.csv\", index=False) \n",
    "Tr3_2015.to_csv(\"Bd/Fact_Venta/2015/T3_2015.csv\", index=False) \n",
    "Tr4_2015.to_csv(\"Bd/Fact_Venta/2015/T4_2015.csv\", index=False) \n",
    "\n",
    "#2016\n",
    "Tr1_2016.to_csv(\"Bd/Fact_Venta/2016/T1_2016.csv\", index=False)\n",
    "Tr2_2016.to_csv(\"Bd/Fact_Venta/2016/T2_2016.csv\", index=False) \n",
    "Tr3_2016.to_csv(\"Bd/Fact_Venta/2016/T3_2016.csv\", index=False) \n",
    "Tr4_2016.to_csv(\"Bd/Fact_Venta/2016/T4_2016.csv\", index=False) \n",
    "\n",
    "#2017\n",
    "Tr1_2017.to_csv(\"Bd/Fact_Venta/2017/T1_2017.csv\", index=False) \n",
    "Tr2_2017.to_csv(\"Bd/Fact_Venta/2017/T2_2017.csv\", index=False) \n",
    "Tr3_2017.to_csv(\"Bd/Fact_Venta/2017/T3_2017.csv\", index=False) \n",
    "Tr4_2017.to_csv(\"Bd/Fact_Venta/2017/T4_2017.csv\", index=False) "
   ]
  },
  {
   "cell_type": "markdown",
   "metadata": {},
   "source": [
    "DIM TIENDA"
   ]
  },
  {
   "cell_type": "code",
   "execution_count": 36,
   "metadata": {},
   "outputs": [],
   "source": [
    "Dim_Store = df[['Store Number', 'Store Name', 'Address', 'City', 'Zip Code', 'Store Location', 'County']]"
   ]
  },
  {
   "cell_type": "code",
   "execution_count": 37,
   "metadata": {},
   "outputs": [
    {
     "data": {
      "text/plain": [
       "Store Number          0\n",
       "Store Name            0\n",
       "Address            2376\n",
       "City               2375\n",
       "Zip Code           2420\n",
       "Store Location     2375\n",
       "County            79178\n",
       "dtype: int64"
      ]
     },
     "execution_count": 37,
     "metadata": {},
     "output_type": "execute_result"
    }
   ],
   "source": [
    "Dim_Store.isna().sum()"
   ]
  },
  {
   "cell_type": "code",
   "execution_count": null,
   "metadata": {},
   "outputs": [
    {
     "data": {
      "text/html": [
       "<div>\n",
       "<style scoped>\n",
       "    .dataframe tbody tr th:only-of-type {\n",
       "        vertical-align: middle;\n",
       "    }\n",
       "\n",
       "    .dataframe tbody tr th {\n",
       "        vertical-align: top;\n",
       "    }\n",
       "\n",
       "    .dataframe thead th {\n",
       "        text-align: right;\n",
       "    }\n",
       "</style>\n",
       "<table border=\"1\" class=\"dataframe\">\n",
       "  <thead>\n",
       "    <tr style=\"text-align: right;\">\n",
       "      <th></th>\n",
       "      <th>Store Number</th>\n",
       "      <th>Store Name</th>\n",
       "      <th>Address</th>\n",
       "      <th>City</th>\n",
       "      <th>Zip Code</th>\n",
       "      <th>Store Location</th>\n",
       "      <th>County</th>\n",
       "    </tr>\n",
       "  </thead>\n",
       "  <tbody>\n",
       "    <tr>\n",
       "      <th>9039515</th>\n",
       "      <td>5250</td>\n",
       "      <td>East Side Liquor and Tobacco</td>\n",
       "      <td>3804, Hubbell Ave</td>\n",
       "      <td>Des Moines</td>\n",
       "      <td>50317</td>\n",
       "      <td>3804, Hubbell Ave\\nDes Moines 50317\\n(41.63080...</td>\n",
       "      <td>NaN</td>\n",
       "    </tr>\n",
       "    <tr>\n",
       "      <th>9039516</th>\n",
       "      <td>5250</td>\n",
       "      <td>East Side Liquor and Tobacco</td>\n",
       "      <td>3804, Hubbell Ave</td>\n",
       "      <td>Des Moines</td>\n",
       "      <td>50317</td>\n",
       "      <td>3804, Hubbell Ave\\nDes Moines 50317\\n(41.63080...</td>\n",
       "      <td>NaN</td>\n",
       "    </tr>\n",
       "    <tr>\n",
       "      <th>9039517</th>\n",
       "      <td>5250</td>\n",
       "      <td>East Side Liquor and Tobacco</td>\n",
       "      <td>3804, Hubbell Ave</td>\n",
       "      <td>Des Moines</td>\n",
       "      <td>50317</td>\n",
       "      <td>3804, Hubbell Ave\\nDes Moines 50317\\n(41.63080...</td>\n",
       "      <td>NaN</td>\n",
       "    </tr>\n",
       "    <tr>\n",
       "      <th>9039518</th>\n",
       "      <td>5250</td>\n",
       "      <td>East Side Liquor and Tobacco</td>\n",
       "      <td>3804, Hubbell Ave</td>\n",
       "      <td>Des Moines</td>\n",
       "      <td>50317</td>\n",
       "      <td>3804, Hubbell Ave\\nDes Moines 50317\\n(41.63080...</td>\n",
       "      <td>NaN</td>\n",
       "    </tr>\n",
       "    <tr>\n",
       "      <th>9039519</th>\n",
       "      <td>5250</td>\n",
       "      <td>East Side Liquor and Tobacco</td>\n",
       "      <td>3804, Hubbell Ave</td>\n",
       "      <td>Des Moines</td>\n",
       "      <td>50317</td>\n",
       "      <td>3804, Hubbell Ave\\nDes Moines 50317\\n(41.63080...</td>\n",
       "      <td>NaN</td>\n",
       "    </tr>\n",
       "    <tr>\n",
       "      <th>...</th>\n",
       "      <td>...</td>\n",
       "      <td>...</td>\n",
       "      <td>...</td>\n",
       "      <td>...</td>\n",
       "      <td>...</td>\n",
       "      <td>...</td>\n",
       "      <td>...</td>\n",
       "    </tr>\n",
       "    <tr>\n",
       "      <th>12580640</th>\n",
       "      <td>5250</td>\n",
       "      <td>East Side Liquor and Tobacco</td>\n",
       "      <td>3804 Hubbell Ave</td>\n",
       "      <td>Des Moines</td>\n",
       "      <td>50317</td>\n",
       "      <td>3804 Hubbell Ave\\nDes Moines 50317\\n(41.630805...</td>\n",
       "      <td>POLK</td>\n",
       "    </tr>\n",
       "    <tr>\n",
       "      <th>12580641</th>\n",
       "      <td>5250</td>\n",
       "      <td>East Side Liquor and Tobacco</td>\n",
       "      <td>3804 Hubbell Ave</td>\n",
       "      <td>Des Moines</td>\n",
       "      <td>50317</td>\n",
       "      <td>3804 Hubbell Ave\\nDes Moines 50317\\n(41.630805...</td>\n",
       "      <td>POLK</td>\n",
       "    </tr>\n",
       "    <tr>\n",
       "      <th>12580642</th>\n",
       "      <td>5250</td>\n",
       "      <td>East Side Liquor and Tobacco</td>\n",
       "      <td>3804 Hubbell Ave</td>\n",
       "      <td>Des Moines</td>\n",
       "      <td>50317</td>\n",
       "      <td>3804 Hubbell Ave\\nDes Moines 50317\\n(41.630805...</td>\n",
       "      <td>POLK</td>\n",
       "    </tr>\n",
       "    <tr>\n",
       "      <th>12580643</th>\n",
       "      <td>5250</td>\n",
       "      <td>East Side Liquor and Tobacco</td>\n",
       "      <td>3804 Hubbell Ave</td>\n",
       "      <td>Des Moines</td>\n",
       "      <td>50317</td>\n",
       "      <td>3804 Hubbell Ave\\nDes Moines 50317\\n(41.630805...</td>\n",
       "      <td>POLK</td>\n",
       "    </tr>\n",
       "    <tr>\n",
       "      <th>12580644</th>\n",
       "      <td>5250</td>\n",
       "      <td>East Side Liquor and Tobacco</td>\n",
       "      <td>3804 Hubbell Ave</td>\n",
       "      <td>Des Moines</td>\n",
       "      <td>50317</td>\n",
       "      <td>3804 Hubbell Ave\\nDes Moines 50317\\n(41.630805...</td>\n",
       "      <td>POLK</td>\n",
       "    </tr>\n",
       "  </tbody>\n",
       "</table>\n",
       "<p>3975 rows × 7 columns</p>\n",
       "</div>"
      ],
      "text/plain": [
       "          Store Number                    Store Name            Address  \\\n",
       "9039515           5250  East Side Liquor and Tobacco  3804, Hubbell Ave   \n",
       "9039516           5250  East Side Liquor and Tobacco  3804, Hubbell Ave   \n",
       "9039517           5250  East Side Liquor and Tobacco  3804, Hubbell Ave   \n",
       "9039518           5250  East Side Liquor and Tobacco  3804, Hubbell Ave   \n",
       "9039519           5250  East Side Liquor and Tobacco  3804, Hubbell Ave   \n",
       "...                ...                           ...                ...   \n",
       "12580640          5250  East Side Liquor and Tobacco   3804 Hubbell Ave   \n",
       "12580641          5250  East Side Liquor and Tobacco   3804 Hubbell Ave   \n",
       "12580642          5250  East Side Liquor and Tobacco   3804 Hubbell Ave   \n",
       "12580643          5250  East Side Liquor and Tobacco   3804 Hubbell Ave   \n",
       "12580644          5250  East Side Liquor and Tobacco   3804 Hubbell Ave   \n",
       "\n",
       "                City Zip Code  \\\n",
       "9039515   Des Moines    50317   \n",
       "9039516   Des Moines    50317   \n",
       "9039517   Des Moines    50317   \n",
       "9039518   Des Moines    50317   \n",
       "9039519   Des Moines    50317   \n",
       "...              ...      ...   \n",
       "12580640  Des Moines    50317   \n",
       "12580641  Des Moines    50317   \n",
       "12580642  Des Moines    50317   \n",
       "12580643  Des Moines    50317   \n",
       "12580644  Des Moines    50317   \n",
       "\n",
       "                                             Store Location County  \n",
       "9039515   3804, Hubbell Ave\\nDes Moines 50317\\n(41.63080...    NaN  \n",
       "9039516   3804, Hubbell Ave\\nDes Moines 50317\\n(41.63080...    NaN  \n",
       "9039517   3804, Hubbell Ave\\nDes Moines 50317\\n(41.63080...    NaN  \n",
       "9039518   3804, Hubbell Ave\\nDes Moines 50317\\n(41.63080...    NaN  \n",
       "9039519   3804, Hubbell Ave\\nDes Moines 50317\\n(41.63080...    NaN  \n",
       "...                                                     ...    ...  \n",
       "12580640  3804 Hubbell Ave\\nDes Moines 50317\\n(41.630805...   POLK  \n",
       "12580641  3804 Hubbell Ave\\nDes Moines 50317\\n(41.630805...   POLK  \n",
       "12580642  3804 Hubbell Ave\\nDes Moines 50317\\n(41.630805...   POLK  \n",
       "12580643  3804 Hubbell Ave\\nDes Moines 50317\\n(41.630805...   POLK  \n",
       "12580644  3804 Hubbell Ave\\nDes Moines 50317\\n(41.630805...   POLK  \n",
       "\n",
       "[3975 rows x 7 columns]"
      ]
     },
     "execution_count": 38,
     "metadata": {},
     "output_type": "execute_result"
    }
   ],
   "source": [
    "#Ver si hay datos para poder rellenar en una columna de ejemplo (no es obligatorio ni mucho menos)\n",
    "Dim_Store[Dim_Store[\"Store Number\"] == 5250]"
   ]
  },
  {
   "cell_type": "code",
   "execution_count": 28,
   "metadata": {},
   "outputs": [],
   "source": [
    "# Funcion para rellenar isna\n",
    "def fill_column_by_group(dataframe, group_column, fill_column):\n",
    "    \"\"\"\n",
    "    Rellena los valores vacíos en una columna específica usando los valores no vacíos \n",
    "    correspondientes al mismo grupo definido por otra columna.\n",
    "\n",
    "    Args:\n",
    "        dataframe (pd.DataFrame): El DataFrame original.\n",
    "        group_column (str): El nombre de la columna para agrupar (por ejemplo, 'Store Number').\n",
    "        fill_column (str): El nombre de la columna donde se deben rellenar los valores (por ejemplo, 'County').\n",
    "\n",
    "    Returns:\n",
    "        pd.DataFrame: DataFrame con los valores de la columna rellenados.\n",
    "    \"\"\"\n",
    "    # Crear un diccionario que mapea el grupo a un valor no vacío en la columna de relleno\n",
    "    group_to_value = (\n",
    "        dataframe[dataframe[fill_column].notnull() & (dataframe[fill_column] != '')]\n",
    "        .groupby(group_column)[fill_column]\n",
    "        .first()\n",
    "        .to_dict()\n",
    "    )\n",
    "    \n",
    "    # Usar el diccionario para rellenar los valores vacíos en la columna especificada\n",
    "    dataframe[fill_column] = dataframe.apply(\n",
    "        lambda row: group_to_value.get(row[group_column], row[fill_column]) \n",
    "        if pd.isnull(row[fill_column]) or row[fill_column] == '' \n",
    "        else row[fill_column], \n",
    "        axis=1\n",
    "    )\n",
    "    return dataframe\n"
   ]
  },
  {
   "cell_type": "markdown",
   "metadata": {},
   "source": [
    "FILL COUNTY"
   ]
  },
  {
   "cell_type": "code",
   "execution_count": null,
   "metadata": {},
   "outputs": [
    {
     "name": "stderr",
     "output_type": "stream",
     "text": [
      "C:\\Users\\jorge\\AppData\\Local\\Temp\\ipykernel_25292\\2683391841.py:23: SettingWithCopyWarning: \n",
      "A value is trying to be set on a copy of a slice from a DataFrame.\n",
      "Try using .loc[row_indexer,col_indexer] = value instead\n",
      "\n",
      "See the caveats in the documentation: https://pandas.pydata.org/pandas-docs/stable/user_guide/indexing.html#returning-a-view-versus-a-copy\n",
      "  dataframe[fill_column] = dataframe.apply(\n"
     ]
    }
   ],
   "source": [
    "#Rellenar isna \n",
    "Dim_Tienda_County = fill_column_by_group(Dim_Store, group_column='Store Number', fill_column='County')"
   ]
  },
  {
   "cell_type": "code",
   "execution_count": 32,
   "metadata": {},
   "outputs": [
    {
     "data": {
      "text/html": [
       "<div>\n",
       "<style scoped>\n",
       "    .dataframe tbody tr th:only-of-type {\n",
       "        vertical-align: middle;\n",
       "    }\n",
       "\n",
       "    .dataframe tbody tr th {\n",
       "        vertical-align: top;\n",
       "    }\n",
       "\n",
       "    .dataframe thead th {\n",
       "        text-align: right;\n",
       "    }\n",
       "</style>\n",
       "<table border=\"1\" class=\"dataframe\">\n",
       "  <thead>\n",
       "    <tr style=\"text-align: right;\">\n",
       "      <th></th>\n",
       "      <th>Store Number</th>\n",
       "      <th>Store Name</th>\n",
       "      <th>Address</th>\n",
       "      <th>City</th>\n",
       "      <th>Zip Code</th>\n",
       "      <th>Store Location</th>\n",
       "      <th>County</th>\n",
       "    </tr>\n",
       "  </thead>\n",
       "  <tbody>\n",
       "    <tr>\n",
       "      <th>9039515</th>\n",
       "      <td>5250</td>\n",
       "      <td>East Side Liquor and Tobacco</td>\n",
       "      <td>3804, Hubbell Ave</td>\n",
       "      <td>Des Moines</td>\n",
       "      <td>50317</td>\n",
       "      <td>3804, Hubbell Ave\\nDes Moines 50317\\n(41.63080...</td>\n",
       "      <td>POLK</td>\n",
       "    </tr>\n",
       "    <tr>\n",
       "      <th>9039516</th>\n",
       "      <td>5250</td>\n",
       "      <td>East Side Liquor and Tobacco</td>\n",
       "      <td>3804, Hubbell Ave</td>\n",
       "      <td>Des Moines</td>\n",
       "      <td>50317</td>\n",
       "      <td>3804, Hubbell Ave\\nDes Moines 50317\\n(41.63080...</td>\n",
       "      <td>POLK</td>\n",
       "    </tr>\n",
       "    <tr>\n",
       "      <th>9039517</th>\n",
       "      <td>5250</td>\n",
       "      <td>East Side Liquor and Tobacco</td>\n",
       "      <td>3804, Hubbell Ave</td>\n",
       "      <td>Des Moines</td>\n",
       "      <td>50317</td>\n",
       "      <td>3804, Hubbell Ave\\nDes Moines 50317\\n(41.63080...</td>\n",
       "      <td>POLK</td>\n",
       "    </tr>\n",
       "    <tr>\n",
       "      <th>9039518</th>\n",
       "      <td>5250</td>\n",
       "      <td>East Side Liquor and Tobacco</td>\n",
       "      <td>3804, Hubbell Ave</td>\n",
       "      <td>Des Moines</td>\n",
       "      <td>50317</td>\n",
       "      <td>3804, Hubbell Ave\\nDes Moines 50317\\n(41.63080...</td>\n",
       "      <td>POLK</td>\n",
       "    </tr>\n",
       "    <tr>\n",
       "      <th>9039519</th>\n",
       "      <td>5250</td>\n",
       "      <td>East Side Liquor and Tobacco</td>\n",
       "      <td>3804, Hubbell Ave</td>\n",
       "      <td>Des Moines</td>\n",
       "      <td>50317</td>\n",
       "      <td>3804, Hubbell Ave\\nDes Moines 50317\\n(41.63080...</td>\n",
       "      <td>POLK</td>\n",
       "    </tr>\n",
       "    <tr>\n",
       "      <th>...</th>\n",
       "      <td>...</td>\n",
       "      <td>...</td>\n",
       "      <td>...</td>\n",
       "      <td>...</td>\n",
       "      <td>...</td>\n",
       "      <td>...</td>\n",
       "      <td>...</td>\n",
       "    </tr>\n",
       "    <tr>\n",
       "      <th>12580640</th>\n",
       "      <td>5250</td>\n",
       "      <td>East Side Liquor and Tobacco</td>\n",
       "      <td>3804 Hubbell Ave</td>\n",
       "      <td>Des Moines</td>\n",
       "      <td>50317</td>\n",
       "      <td>3804 Hubbell Ave\\nDes Moines 50317\\n(41.630805...</td>\n",
       "      <td>POLK</td>\n",
       "    </tr>\n",
       "    <tr>\n",
       "      <th>12580641</th>\n",
       "      <td>5250</td>\n",
       "      <td>East Side Liquor and Tobacco</td>\n",
       "      <td>3804 Hubbell Ave</td>\n",
       "      <td>Des Moines</td>\n",
       "      <td>50317</td>\n",
       "      <td>3804 Hubbell Ave\\nDes Moines 50317\\n(41.630805...</td>\n",
       "      <td>POLK</td>\n",
       "    </tr>\n",
       "    <tr>\n",
       "      <th>12580642</th>\n",
       "      <td>5250</td>\n",
       "      <td>East Side Liquor and Tobacco</td>\n",
       "      <td>3804 Hubbell Ave</td>\n",
       "      <td>Des Moines</td>\n",
       "      <td>50317</td>\n",
       "      <td>3804 Hubbell Ave\\nDes Moines 50317\\n(41.630805...</td>\n",
       "      <td>POLK</td>\n",
       "    </tr>\n",
       "    <tr>\n",
       "      <th>12580643</th>\n",
       "      <td>5250</td>\n",
       "      <td>East Side Liquor and Tobacco</td>\n",
       "      <td>3804 Hubbell Ave</td>\n",
       "      <td>Des Moines</td>\n",
       "      <td>50317</td>\n",
       "      <td>3804 Hubbell Ave\\nDes Moines 50317\\n(41.630805...</td>\n",
       "      <td>POLK</td>\n",
       "    </tr>\n",
       "    <tr>\n",
       "      <th>12580644</th>\n",
       "      <td>5250</td>\n",
       "      <td>East Side Liquor and Tobacco</td>\n",
       "      <td>3804 Hubbell Ave</td>\n",
       "      <td>Des Moines</td>\n",
       "      <td>50317</td>\n",
       "      <td>3804 Hubbell Ave\\nDes Moines 50317\\n(41.630805...</td>\n",
       "      <td>POLK</td>\n",
       "    </tr>\n",
       "  </tbody>\n",
       "</table>\n",
       "<p>3975 rows × 7 columns</p>\n",
       "</div>"
      ],
      "text/plain": [
       "          Store Number                    Store Name            Address  \\\n",
       "9039515           5250  East Side Liquor and Tobacco  3804, Hubbell Ave   \n",
       "9039516           5250  East Side Liquor and Tobacco  3804, Hubbell Ave   \n",
       "9039517           5250  East Side Liquor and Tobacco  3804, Hubbell Ave   \n",
       "9039518           5250  East Side Liquor and Tobacco  3804, Hubbell Ave   \n",
       "9039519           5250  East Side Liquor and Tobacco  3804, Hubbell Ave   \n",
       "...                ...                           ...                ...   \n",
       "12580640          5250  East Side Liquor and Tobacco   3804 Hubbell Ave   \n",
       "12580641          5250  East Side Liquor and Tobacco   3804 Hubbell Ave   \n",
       "12580642          5250  East Side Liquor and Tobacco   3804 Hubbell Ave   \n",
       "12580643          5250  East Side Liquor and Tobacco   3804 Hubbell Ave   \n",
       "12580644          5250  East Side Liquor and Tobacco   3804 Hubbell Ave   \n",
       "\n",
       "                City Zip Code  \\\n",
       "9039515   Des Moines    50317   \n",
       "9039516   Des Moines    50317   \n",
       "9039517   Des Moines    50317   \n",
       "9039518   Des Moines    50317   \n",
       "9039519   Des Moines    50317   \n",
       "...              ...      ...   \n",
       "12580640  Des Moines    50317   \n",
       "12580641  Des Moines    50317   \n",
       "12580642  Des Moines    50317   \n",
       "12580643  Des Moines    50317   \n",
       "12580644  Des Moines    50317   \n",
       "\n",
       "                                             Store Location County  \n",
       "9039515   3804, Hubbell Ave\\nDes Moines 50317\\n(41.63080...   POLK  \n",
       "9039516   3804, Hubbell Ave\\nDes Moines 50317\\n(41.63080...   POLK  \n",
       "9039517   3804, Hubbell Ave\\nDes Moines 50317\\n(41.63080...   POLK  \n",
       "9039518   3804, Hubbell Ave\\nDes Moines 50317\\n(41.63080...   POLK  \n",
       "9039519   3804, Hubbell Ave\\nDes Moines 50317\\n(41.63080...   POLK  \n",
       "...                                                     ...    ...  \n",
       "12580640  3804 Hubbell Ave\\nDes Moines 50317\\n(41.630805...   POLK  \n",
       "12580641  3804 Hubbell Ave\\nDes Moines 50317\\n(41.630805...   POLK  \n",
       "12580642  3804 Hubbell Ave\\nDes Moines 50317\\n(41.630805...   POLK  \n",
       "12580643  3804 Hubbell Ave\\nDes Moines 50317\\n(41.630805...   POLK  \n",
       "12580644  3804 Hubbell Ave\\nDes Moines 50317\\n(41.630805...   POLK  \n",
       "\n",
       "[3975 rows x 7 columns]"
      ]
     },
     "execution_count": 32,
     "metadata": {},
     "output_type": "execute_result"
    }
   ],
   "source": [
    "#Comprobar si ha rellenado bien\n",
    "Dim_Tienda_County[Dim_Tienda_County[\"Store Number\"] == 5250]"
   ]
  },
  {
   "cell_type": "code",
   "execution_count": null,
   "metadata": {},
   "outputs": [
    {
     "data": {
      "text/plain": [
       "Store Number         0\n",
       "Store Name           0\n",
       "Address           2376\n",
       "City              2375\n",
       "Zip Code          2420\n",
       "Store Location    2375\n",
       "County             797\n",
       "dtype: int64"
      ]
     },
     "execution_count": 39,
     "metadata": {},
     "output_type": "execute_result"
    }
   ],
   "source": [
    "#Comprobar si quedan vacios\n",
    "Dim_Tienda_County.isna().sum()"
   ]
  },
  {
   "cell_type": "code",
   "execution_count": 34,
   "metadata": {},
   "outputs": [
    {
     "data": {
      "text/html": [
       "<div>\n",
       "<style scoped>\n",
       "    .dataframe tbody tr th:only-of-type {\n",
       "        vertical-align: middle;\n",
       "    }\n",
       "\n",
       "    .dataframe tbody tr th {\n",
       "        vertical-align: top;\n",
       "    }\n",
       "\n",
       "    .dataframe thead th {\n",
       "        text-align: right;\n",
       "    }\n",
       "</style>\n",
       "<table border=\"1\" class=\"dataframe\">\n",
       "  <thead>\n",
       "    <tr style=\"text-align: right;\">\n",
       "      <th></th>\n",
       "      <th>County</th>\n",
       "      <th>Store Number</th>\n",
       "    </tr>\n",
       "  </thead>\n",
       "  <tbody>\n",
       "    <tr>\n",
       "      <th>9254302</th>\n",
       "      <td>NaN</td>\n",
       "      <td>5220</td>\n",
       "    </tr>\n",
       "  </tbody>\n",
       "</table>\n",
       "</div>"
      ],
      "text/plain": [
       "        County  Store Number\n",
       "9254302    NaN          5220"
      ]
     },
     "execution_count": 34,
     "metadata": {},
     "output_type": "execute_result"
    }
   ],
   "source": [
    "# Filtrar filas donde la columna 'county' está vacía\n",
    "filtered_rows = Dim_Tienda_County[Dim_Tienda_County['County'].isnull() | (Dim_Tienda_County['County'] == '')]\n",
    "\n",
    "# Mostrar únicamente las columnas 'county' y 'store number'\n",
    "nulls = filtered_rows[['County', 'Store Number']]\n",
    "nulls.sample(1)"
   ]
  },
  {
   "cell_type": "code",
   "execution_count": 40,
   "metadata": {},
   "outputs": [
    {
     "data": {
      "text/html": [
       "<div>\n",
       "<style scoped>\n",
       "    .dataframe tbody tr th:only-of-type {\n",
       "        vertical-align: middle;\n",
       "    }\n",
       "\n",
       "    .dataframe tbody tr th {\n",
       "        vertical-align: top;\n",
       "    }\n",
       "\n",
       "    .dataframe thead th {\n",
       "        text-align: right;\n",
       "    }\n",
       "</style>\n",
       "<table border=\"1\" class=\"dataframe\">\n",
       "  <thead>\n",
       "    <tr style=\"text-align: right;\">\n",
       "      <th></th>\n",
       "      <th>Store Number</th>\n",
       "      <th>Store Name</th>\n",
       "      <th>Address</th>\n",
       "      <th>City</th>\n",
       "      <th>Zip Code</th>\n",
       "      <th>Store Location</th>\n",
       "      <th>County</th>\n",
       "    </tr>\n",
       "  </thead>\n",
       "  <tbody>\n",
       "    <tr>\n",
       "      <th>8777497</th>\n",
       "      <td>5220</td>\n",
       "      <td>Liquor Tobacco &amp; Grocery / Mason Cit</td>\n",
       "      <td>2771, 4th ST SW</td>\n",
       "      <td>MASON CITY</td>\n",
       "      <td>50401</td>\n",
       "      <td>2771, 4th ST SW\\nMASON CITY 50401\\n(43.148281,...</td>\n",
       "      <td>NaN</td>\n",
       "    </tr>\n",
       "    <tr>\n",
       "      <th>8777498</th>\n",
       "      <td>5220</td>\n",
       "      <td>Liquor Tobacco &amp; Grocery / Mason Cit</td>\n",
       "      <td>2771, 4th ST SW</td>\n",
       "      <td>MASON CITY</td>\n",
       "      <td>50401</td>\n",
       "      <td>2771, 4th ST SW\\nMASON CITY 50401\\n(43.148281,...</td>\n",
       "      <td>NaN</td>\n",
       "    </tr>\n",
       "    <tr>\n",
       "      <th>8777499</th>\n",
       "      <td>5220</td>\n",
       "      <td>Liquor Tobacco &amp; Grocery / Mason Cit</td>\n",
       "      <td>2771, 4th ST SW</td>\n",
       "      <td>MASON CITY</td>\n",
       "      <td>50401</td>\n",
       "      <td>2771, 4th ST SW\\nMASON CITY 50401\\n(43.148281,...</td>\n",
       "      <td>NaN</td>\n",
       "    </tr>\n",
       "    <tr>\n",
       "      <th>8777500</th>\n",
       "      <td>5220</td>\n",
       "      <td>Liquor Tobacco &amp; Grocery / Mason Cit</td>\n",
       "      <td>2771, 4th ST SW</td>\n",
       "      <td>MASON CITY</td>\n",
       "      <td>50401</td>\n",
       "      <td>2771, 4th ST SW\\nMASON CITY 50401\\n(43.148281,...</td>\n",
       "      <td>NaN</td>\n",
       "    </tr>\n",
       "    <tr>\n",
       "      <th>8777501</th>\n",
       "      <td>5220</td>\n",
       "      <td>Liquor Tobacco &amp; Grocery / Mason Cit</td>\n",
       "      <td>2771, 4th ST SW</td>\n",
       "      <td>MASON CITY</td>\n",
       "      <td>50401</td>\n",
       "      <td>2771, 4th ST SW\\nMASON CITY 50401\\n(43.148281,...</td>\n",
       "      <td>NaN</td>\n",
       "    </tr>\n",
       "    <tr>\n",
       "      <th>...</th>\n",
       "      <td>...</td>\n",
       "      <td>...</td>\n",
       "      <td>...</td>\n",
       "      <td>...</td>\n",
       "      <td>...</td>\n",
       "      <td>...</td>\n",
       "      <td>...</td>\n",
       "    </tr>\n",
       "    <tr>\n",
       "      <th>9386204</th>\n",
       "      <td>5220</td>\n",
       "      <td>Liquor Tobacco &amp; Grocery / Mason Cit</td>\n",
       "      <td>2771, 4th St SW</td>\n",
       "      <td>Mason City</td>\n",
       "      <td>50401</td>\n",
       "      <td>2771, 4th St SW\\nMason City 50401\\n(43.148281,...</td>\n",
       "      <td>NaN</td>\n",
       "    </tr>\n",
       "    <tr>\n",
       "      <th>9386205</th>\n",
       "      <td>5220</td>\n",
       "      <td>Liquor Tobacco &amp; Grocery / Mason Cit</td>\n",
       "      <td>2771, 4th St SW</td>\n",
       "      <td>Mason City</td>\n",
       "      <td>50401</td>\n",
       "      <td>2771, 4th St SW\\nMason City 50401\\n(43.148281,...</td>\n",
       "      <td>NaN</td>\n",
       "    </tr>\n",
       "    <tr>\n",
       "      <th>9386206</th>\n",
       "      <td>5220</td>\n",
       "      <td>Liquor Tobacco &amp; Grocery / Mason Cit</td>\n",
       "      <td>2771, 4th St SW</td>\n",
       "      <td>Mason City</td>\n",
       "      <td>50401</td>\n",
       "      <td>2771, 4th St SW\\nMason City 50401\\n(43.148281,...</td>\n",
       "      <td>NaN</td>\n",
       "    </tr>\n",
       "    <tr>\n",
       "      <th>9386207</th>\n",
       "      <td>5220</td>\n",
       "      <td>Liquor Tobacco &amp; Grocery / Mason Cit</td>\n",
       "      <td>2771, 4th St SW</td>\n",
       "      <td>Mason City</td>\n",
       "      <td>50401</td>\n",
       "      <td>2771, 4th St SW\\nMason City 50401\\n(43.148281,...</td>\n",
       "      <td>NaN</td>\n",
       "    </tr>\n",
       "    <tr>\n",
       "      <th>9386208</th>\n",
       "      <td>5220</td>\n",
       "      <td>Liquor Tobacco &amp; Grocery / Mason Cit</td>\n",
       "      <td>2771, 4th St SW</td>\n",
       "      <td>Mason City</td>\n",
       "      <td>50401</td>\n",
       "      <td>2771, 4th St SW\\nMason City 50401\\n(43.148281,...</td>\n",
       "      <td>NaN</td>\n",
       "    </tr>\n",
       "  </tbody>\n",
       "</table>\n",
       "<p>797 rows × 7 columns</p>\n",
       "</div>"
      ],
      "text/plain": [
       "         Store Number                            Store Name          Address  \\\n",
       "8777497          5220  Liquor Tobacco & Grocery / Mason Cit  2771, 4th ST SW   \n",
       "8777498          5220  Liquor Tobacco & Grocery / Mason Cit  2771, 4th ST SW   \n",
       "8777499          5220  Liquor Tobacco & Grocery / Mason Cit  2771, 4th ST SW   \n",
       "8777500          5220  Liquor Tobacco & Grocery / Mason Cit  2771, 4th ST SW   \n",
       "8777501          5220  Liquor Tobacco & Grocery / Mason Cit  2771, 4th ST SW   \n",
       "...               ...                                   ...              ...   \n",
       "9386204          5220  Liquor Tobacco & Grocery / Mason Cit  2771, 4th St SW   \n",
       "9386205          5220  Liquor Tobacco & Grocery / Mason Cit  2771, 4th St SW   \n",
       "9386206          5220  Liquor Tobacco & Grocery / Mason Cit  2771, 4th St SW   \n",
       "9386207          5220  Liquor Tobacco & Grocery / Mason Cit  2771, 4th St SW   \n",
       "9386208          5220  Liquor Tobacco & Grocery / Mason Cit  2771, 4th St SW   \n",
       "\n",
       "               City Zip Code  \\\n",
       "8777497  MASON CITY    50401   \n",
       "8777498  MASON CITY    50401   \n",
       "8777499  MASON CITY    50401   \n",
       "8777500  MASON CITY    50401   \n",
       "8777501  MASON CITY    50401   \n",
       "...             ...      ...   \n",
       "9386204  Mason City    50401   \n",
       "9386205  Mason City    50401   \n",
       "9386206  Mason City    50401   \n",
       "9386207  Mason City    50401   \n",
       "9386208  Mason City    50401   \n",
       "\n",
       "                                            Store Location County  \n",
       "8777497  2771, 4th ST SW\\nMASON CITY 50401\\n(43.148281,...    NaN  \n",
       "8777498  2771, 4th ST SW\\nMASON CITY 50401\\n(43.148281,...    NaN  \n",
       "8777499  2771, 4th ST SW\\nMASON CITY 50401\\n(43.148281,...    NaN  \n",
       "8777500  2771, 4th ST SW\\nMASON CITY 50401\\n(43.148281,...    NaN  \n",
       "8777501  2771, 4th ST SW\\nMASON CITY 50401\\n(43.148281,...    NaN  \n",
       "...                                                    ...    ...  \n",
       "9386204  2771, 4th St SW\\nMason City 50401\\n(43.148281,...    NaN  \n",
       "9386205  2771, 4th St SW\\nMason City 50401\\n(43.148281,...    NaN  \n",
       "9386206  2771, 4th St SW\\nMason City 50401\\n(43.148281,...    NaN  \n",
       "9386207  2771, 4th St SW\\nMason City 50401\\n(43.148281,...    NaN  \n",
       "9386208  2771, 4th St SW\\nMason City 50401\\n(43.148281,...    NaN  \n",
       "\n",
       "[797 rows x 7 columns]"
      ]
     },
     "execution_count": 40,
     "metadata": {},
     "output_type": "execute_result"
    }
   ],
   "source": [
    "Dim_Tienda_County[Dim_Tienda_County[\"Store Number\"] == 5220]"
   ]
  },
  {
   "cell_type": "code",
   "execution_count": 41,
   "metadata": {},
   "outputs": [],
   "source": [
    "#Vemos que numero de nan de 5220 coicide con los valores faltantes totales y buscamos el condado por internet y rellenamos\n",
    "Dim_Tienda_County.loc[Dim_Tienda_County[\"Store Number\"] == 5220, 'County'] = 'Cerro Gordo'"
   ]
  },
  {
   "cell_type": "code",
   "execution_count": 42,
   "metadata": {},
   "outputs": [
    {
     "data": {
      "text/html": [
       "<div>\n",
       "<style scoped>\n",
       "    .dataframe tbody tr th:only-of-type {\n",
       "        vertical-align: middle;\n",
       "    }\n",
       "\n",
       "    .dataframe tbody tr th {\n",
       "        vertical-align: top;\n",
       "    }\n",
       "\n",
       "    .dataframe thead th {\n",
       "        text-align: right;\n",
       "    }\n",
       "</style>\n",
       "<table border=\"1\" class=\"dataframe\">\n",
       "  <thead>\n",
       "    <tr style=\"text-align: right;\">\n",
       "      <th></th>\n",
       "      <th>Store Number</th>\n",
       "      <th>Store Name</th>\n",
       "      <th>Address</th>\n",
       "      <th>City</th>\n",
       "      <th>Zip Code</th>\n",
       "      <th>Store Location</th>\n",
       "      <th>County</th>\n",
       "    </tr>\n",
       "  </thead>\n",
       "  <tbody>\n",
       "    <tr>\n",
       "      <th>8777497</th>\n",
       "      <td>5220</td>\n",
       "      <td>Liquor Tobacco &amp; Grocery / Mason Cit</td>\n",
       "      <td>2771, 4th ST SW</td>\n",
       "      <td>MASON CITY</td>\n",
       "      <td>50401</td>\n",
       "      <td>2771, 4th ST SW\\nMASON CITY 50401\\n(43.148281,...</td>\n",
       "      <td>Cerro Gordo</td>\n",
       "    </tr>\n",
       "    <tr>\n",
       "      <th>8777498</th>\n",
       "      <td>5220</td>\n",
       "      <td>Liquor Tobacco &amp; Grocery / Mason Cit</td>\n",
       "      <td>2771, 4th ST SW</td>\n",
       "      <td>MASON CITY</td>\n",
       "      <td>50401</td>\n",
       "      <td>2771, 4th ST SW\\nMASON CITY 50401\\n(43.148281,...</td>\n",
       "      <td>Cerro Gordo</td>\n",
       "    </tr>\n",
       "    <tr>\n",
       "      <th>8777499</th>\n",
       "      <td>5220</td>\n",
       "      <td>Liquor Tobacco &amp; Grocery / Mason Cit</td>\n",
       "      <td>2771, 4th ST SW</td>\n",
       "      <td>MASON CITY</td>\n",
       "      <td>50401</td>\n",
       "      <td>2771, 4th ST SW\\nMASON CITY 50401\\n(43.148281,...</td>\n",
       "      <td>Cerro Gordo</td>\n",
       "    </tr>\n",
       "    <tr>\n",
       "      <th>8777500</th>\n",
       "      <td>5220</td>\n",
       "      <td>Liquor Tobacco &amp; Grocery / Mason Cit</td>\n",
       "      <td>2771, 4th ST SW</td>\n",
       "      <td>MASON CITY</td>\n",
       "      <td>50401</td>\n",
       "      <td>2771, 4th ST SW\\nMASON CITY 50401\\n(43.148281,...</td>\n",
       "      <td>Cerro Gordo</td>\n",
       "    </tr>\n",
       "    <tr>\n",
       "      <th>8777501</th>\n",
       "      <td>5220</td>\n",
       "      <td>Liquor Tobacco &amp; Grocery / Mason Cit</td>\n",
       "      <td>2771, 4th ST SW</td>\n",
       "      <td>MASON CITY</td>\n",
       "      <td>50401</td>\n",
       "      <td>2771, 4th ST SW\\nMASON CITY 50401\\n(43.148281,...</td>\n",
       "      <td>Cerro Gordo</td>\n",
       "    </tr>\n",
       "    <tr>\n",
       "      <th>...</th>\n",
       "      <td>...</td>\n",
       "      <td>...</td>\n",
       "      <td>...</td>\n",
       "      <td>...</td>\n",
       "      <td>...</td>\n",
       "      <td>...</td>\n",
       "      <td>...</td>\n",
       "    </tr>\n",
       "    <tr>\n",
       "      <th>9386204</th>\n",
       "      <td>5220</td>\n",
       "      <td>Liquor Tobacco &amp; Grocery / Mason Cit</td>\n",
       "      <td>2771, 4th St SW</td>\n",
       "      <td>Mason City</td>\n",
       "      <td>50401</td>\n",
       "      <td>2771, 4th St SW\\nMason City 50401\\n(43.148281,...</td>\n",
       "      <td>Cerro Gordo</td>\n",
       "    </tr>\n",
       "    <tr>\n",
       "      <th>9386205</th>\n",
       "      <td>5220</td>\n",
       "      <td>Liquor Tobacco &amp; Grocery / Mason Cit</td>\n",
       "      <td>2771, 4th St SW</td>\n",
       "      <td>Mason City</td>\n",
       "      <td>50401</td>\n",
       "      <td>2771, 4th St SW\\nMason City 50401\\n(43.148281,...</td>\n",
       "      <td>Cerro Gordo</td>\n",
       "    </tr>\n",
       "    <tr>\n",
       "      <th>9386206</th>\n",
       "      <td>5220</td>\n",
       "      <td>Liquor Tobacco &amp; Grocery / Mason Cit</td>\n",
       "      <td>2771, 4th St SW</td>\n",
       "      <td>Mason City</td>\n",
       "      <td>50401</td>\n",
       "      <td>2771, 4th St SW\\nMason City 50401\\n(43.148281,...</td>\n",
       "      <td>Cerro Gordo</td>\n",
       "    </tr>\n",
       "    <tr>\n",
       "      <th>9386207</th>\n",
       "      <td>5220</td>\n",
       "      <td>Liquor Tobacco &amp; Grocery / Mason Cit</td>\n",
       "      <td>2771, 4th St SW</td>\n",
       "      <td>Mason City</td>\n",
       "      <td>50401</td>\n",
       "      <td>2771, 4th St SW\\nMason City 50401\\n(43.148281,...</td>\n",
       "      <td>Cerro Gordo</td>\n",
       "    </tr>\n",
       "    <tr>\n",
       "      <th>9386208</th>\n",
       "      <td>5220</td>\n",
       "      <td>Liquor Tobacco &amp; Grocery / Mason Cit</td>\n",
       "      <td>2771, 4th St SW</td>\n",
       "      <td>Mason City</td>\n",
       "      <td>50401</td>\n",
       "      <td>2771, 4th St SW\\nMason City 50401\\n(43.148281,...</td>\n",
       "      <td>Cerro Gordo</td>\n",
       "    </tr>\n",
       "  </tbody>\n",
       "</table>\n",
       "<p>797 rows × 7 columns</p>\n",
       "</div>"
      ],
      "text/plain": [
       "         Store Number                            Store Name          Address  \\\n",
       "8777497          5220  Liquor Tobacco & Grocery / Mason Cit  2771, 4th ST SW   \n",
       "8777498          5220  Liquor Tobacco & Grocery / Mason Cit  2771, 4th ST SW   \n",
       "8777499          5220  Liquor Tobacco & Grocery / Mason Cit  2771, 4th ST SW   \n",
       "8777500          5220  Liquor Tobacco & Grocery / Mason Cit  2771, 4th ST SW   \n",
       "8777501          5220  Liquor Tobacco & Grocery / Mason Cit  2771, 4th ST SW   \n",
       "...               ...                                   ...              ...   \n",
       "9386204          5220  Liquor Tobacco & Grocery / Mason Cit  2771, 4th St SW   \n",
       "9386205          5220  Liquor Tobacco & Grocery / Mason Cit  2771, 4th St SW   \n",
       "9386206          5220  Liquor Tobacco & Grocery / Mason Cit  2771, 4th St SW   \n",
       "9386207          5220  Liquor Tobacco & Grocery / Mason Cit  2771, 4th St SW   \n",
       "9386208          5220  Liquor Tobacco & Grocery / Mason Cit  2771, 4th St SW   \n",
       "\n",
       "               City Zip Code  \\\n",
       "8777497  MASON CITY    50401   \n",
       "8777498  MASON CITY    50401   \n",
       "8777499  MASON CITY    50401   \n",
       "8777500  MASON CITY    50401   \n",
       "8777501  MASON CITY    50401   \n",
       "...             ...      ...   \n",
       "9386204  Mason City    50401   \n",
       "9386205  Mason City    50401   \n",
       "9386206  Mason City    50401   \n",
       "9386207  Mason City    50401   \n",
       "9386208  Mason City    50401   \n",
       "\n",
       "                                            Store Location       County  \n",
       "8777497  2771, 4th ST SW\\nMASON CITY 50401\\n(43.148281,...  Cerro Gordo  \n",
       "8777498  2771, 4th ST SW\\nMASON CITY 50401\\n(43.148281,...  Cerro Gordo  \n",
       "8777499  2771, 4th ST SW\\nMASON CITY 50401\\n(43.148281,...  Cerro Gordo  \n",
       "8777500  2771, 4th ST SW\\nMASON CITY 50401\\n(43.148281,...  Cerro Gordo  \n",
       "8777501  2771, 4th ST SW\\nMASON CITY 50401\\n(43.148281,...  Cerro Gordo  \n",
       "...                                                    ...          ...  \n",
       "9386204  2771, 4th St SW\\nMason City 50401\\n(43.148281,...  Cerro Gordo  \n",
       "9386205  2771, 4th St SW\\nMason City 50401\\n(43.148281,...  Cerro Gordo  \n",
       "9386206  2771, 4th St SW\\nMason City 50401\\n(43.148281,...  Cerro Gordo  \n",
       "9386207  2771, 4th St SW\\nMason City 50401\\n(43.148281,...  Cerro Gordo  \n",
       "9386208  2771, 4th St SW\\nMason City 50401\\n(43.148281,...  Cerro Gordo  \n",
       "\n",
       "[797 rows x 7 columns]"
      ]
     },
     "execution_count": 42,
     "metadata": {},
     "output_type": "execute_result"
    }
   ],
   "source": [
    "#Comprobar que se relleno correctamente\n",
    "Dim_Tienda_County[Dim_Tienda_County[\"Store Number\"] == 5220]"
   ]
  },
  {
   "cell_type": "markdown",
   "metadata": {},
   "source": [
    "FILL CITY"
   ]
  },
  {
   "cell_type": "code",
   "execution_count": 43,
   "metadata": {},
   "outputs": [
    {
     "data": {
      "text/html": [
       "<div>\n",
       "<style scoped>\n",
       "    .dataframe tbody tr th:only-of-type {\n",
       "        vertical-align: middle;\n",
       "    }\n",
       "\n",
       "    .dataframe tbody tr th {\n",
       "        vertical-align: top;\n",
       "    }\n",
       "\n",
       "    .dataframe thead th {\n",
       "        text-align: right;\n",
       "    }\n",
       "</style>\n",
       "<table border=\"1\" class=\"dataframe\">\n",
       "  <thead>\n",
       "    <tr style=\"text-align: right;\">\n",
       "      <th></th>\n",
       "      <th>City</th>\n",
       "      <th>Store Number</th>\n",
       "    </tr>\n",
       "  </thead>\n",
       "  <tbody>\n",
       "    <tr>\n",
       "      <th>9906975</th>\n",
       "      <td>NaN</td>\n",
       "      <td>4725</td>\n",
       "    </tr>\n",
       "    <tr>\n",
       "      <th>9907028</th>\n",
       "      <td>NaN</td>\n",
       "      <td>4725</td>\n",
       "    </tr>\n",
       "    <tr>\n",
       "      <th>9907046</th>\n",
       "      <td>NaN</td>\n",
       "      <td>4725</td>\n",
       "    </tr>\n",
       "    <tr>\n",
       "      <th>9907064</th>\n",
       "      <td>NaN</td>\n",
       "      <td>4767</td>\n",
       "    </tr>\n",
       "    <tr>\n",
       "      <th>9907139</th>\n",
       "      <td>NaN</td>\n",
       "      <td>4725</td>\n",
       "    </tr>\n",
       "    <tr>\n",
       "      <th>...</th>\n",
       "      <td>...</td>\n",
       "      <td>...</td>\n",
       "    </tr>\n",
       "    <tr>\n",
       "      <th>12498215</th>\n",
       "      <td>NaN</td>\n",
       "      <td>4378</td>\n",
       "    </tr>\n",
       "    <tr>\n",
       "      <th>12498216</th>\n",
       "      <td>NaN</td>\n",
       "      <td>4378</td>\n",
       "    </tr>\n",
       "    <tr>\n",
       "      <th>12498217</th>\n",
       "      <td>NaN</td>\n",
       "      <td>4378</td>\n",
       "    </tr>\n",
       "    <tr>\n",
       "      <th>12498218</th>\n",
       "      <td>NaN</td>\n",
       "      <td>4378</td>\n",
       "    </tr>\n",
       "    <tr>\n",
       "      <th>12498219</th>\n",
       "      <td>NaN</td>\n",
       "      <td>4378</td>\n",
       "    </tr>\n",
       "  </tbody>\n",
       "</table>\n",
       "<p>2375 rows × 2 columns</p>\n",
       "</div>"
      ],
      "text/plain": [
       "         City  Store Number\n",
       "9906975   NaN          4725\n",
       "9907028   NaN          4725\n",
       "9907046   NaN          4725\n",
       "9907064   NaN          4767\n",
       "9907139   NaN          4725\n",
       "...       ...           ...\n",
       "12498215  NaN          4378\n",
       "12498216  NaN          4378\n",
       "12498217  NaN          4378\n",
       "12498218  NaN          4378\n",
       "12498219  NaN          4378\n",
       "\n",
       "[2375 rows x 2 columns]"
      ]
     },
     "execution_count": 43,
     "metadata": {},
     "output_type": "execute_result"
    }
   ],
   "source": [
    "# Filtrar filas donde la columna 'city' está vacía\n",
    "filtered_rows = Dim_Store[Dim_Store['City'].isnull() | (Dim_Store['City'] == '')]\n",
    "\n",
    "# Mostrar únicamente las columnas 'city' y 'store number'\n",
    "nulls = filtered_rows[['City', 'Store Number']]\n",
    "nulls"
   ]
  },
  {
   "cell_type": "code",
   "execution_count": 44,
   "metadata": {},
   "outputs": [
    {
     "data": {
      "text/html": [
       "<div>\n",
       "<style scoped>\n",
       "    .dataframe tbody tr th:only-of-type {\n",
       "        vertical-align: middle;\n",
       "    }\n",
       "\n",
       "    .dataframe tbody tr th {\n",
       "        vertical-align: top;\n",
       "    }\n",
       "\n",
       "    .dataframe thead th {\n",
       "        text-align: right;\n",
       "    }\n",
       "</style>\n",
       "<table border=\"1\" class=\"dataframe\">\n",
       "  <thead>\n",
       "    <tr style=\"text-align: right;\">\n",
       "      <th></th>\n",
       "      <th>Store Number</th>\n",
       "      <th>Store Name</th>\n",
       "      <th>Address</th>\n",
       "      <th>City</th>\n",
       "      <th>Zip Code</th>\n",
       "      <th>Store Location</th>\n",
       "      <th>County</th>\n",
       "    </tr>\n",
       "  </thead>\n",
       "  <tbody>\n",
       "    <tr>\n",
       "      <th>12563027</th>\n",
       "      <td>4725</td>\n",
       "      <td>Casey's General Store #1548 / Ankeny</td>\n",
       "      <td>2905 W  1st St</td>\n",
       "      <td>Ankeny</td>\n",
       "      <td>50023</td>\n",
       "      <td>2905 W 1st St\\nAnkeny 50023\\n(41.731708, -93.6...</td>\n",
       "      <td>Polk</td>\n",
       "    </tr>\n",
       "  </tbody>\n",
       "</table>\n",
       "</div>"
      ],
      "text/plain": [
       "          Store Number                            Store Name         Address  \\\n",
       "12563027          4725  Casey's General Store #1548 / Ankeny  2905 W  1st St   \n",
       "\n",
       "            City Zip Code                                     Store Location  \\\n",
       "12563027  Ankeny    50023  2905 W 1st St\\nAnkeny 50023\\n(41.731708, -93.6...   \n",
       "\n",
       "         County  \n",
       "12563027   Polk  "
      ]
     },
     "execution_count": 44,
     "metadata": {},
     "output_type": "execute_result"
    }
   ],
   "source": [
    "Dim_Store[Dim_Store[\"Store Number\"] == 4725].sample(1)"
   ]
  },
  {
   "cell_type": "code",
   "execution_count": 45,
   "metadata": {},
   "outputs": [
    {
     "name": "stderr",
     "output_type": "stream",
     "text": [
      "C:\\Users\\jorge\\AppData\\Local\\Temp\\ipykernel_25292\\2683391841.py:23: SettingWithCopyWarning: \n",
      "A value is trying to be set on a copy of a slice from a DataFrame.\n",
      "Try using .loc[row_indexer,col_indexer] = value instead\n",
      "\n",
      "See the caveats in the documentation: https://pandas.pydata.org/pandas-docs/stable/user_guide/indexing.html#returning-a-view-versus-a-copy\n",
      "  dataframe[fill_column] = dataframe.apply(\n"
     ]
    }
   ],
   "source": [
    "Dim_Tienda_City = fill_column_by_group(Dim_Tienda_County, group_column='Store Number', fill_column='City')"
   ]
  },
  {
   "cell_type": "code",
   "execution_count": 46,
   "metadata": {},
   "outputs": [
    {
     "data": {
      "text/plain": [
       "Store Number         0\n",
       "Store Name           0\n",
       "Address           2376\n",
       "City                 0\n",
       "Zip Code          2420\n",
       "Store Location    2375\n",
       "County               0\n",
       "dtype: int64"
      ]
     },
     "execution_count": 46,
     "metadata": {},
     "output_type": "execute_result"
    }
   ],
   "source": [
    "Dim_Tienda_City.isna().sum()"
   ]
  },
  {
   "cell_type": "code",
   "execution_count": 47,
   "metadata": {},
   "outputs": [
    {
     "data": {
      "text/html": [
       "<div>\n",
       "<style scoped>\n",
       "    .dataframe tbody tr th:only-of-type {\n",
       "        vertical-align: middle;\n",
       "    }\n",
       "\n",
       "    .dataframe tbody tr th {\n",
       "        vertical-align: top;\n",
       "    }\n",
       "\n",
       "    .dataframe thead th {\n",
       "        text-align: right;\n",
       "    }\n",
       "</style>\n",
       "<table border=\"1\" class=\"dataframe\">\n",
       "  <thead>\n",
       "    <tr style=\"text-align: right;\">\n",
       "      <th></th>\n",
       "      <th>Store Number</th>\n",
       "      <th>Store Name</th>\n",
       "      <th>Address</th>\n",
       "      <th>City</th>\n",
       "      <th>Zip Code</th>\n",
       "      <th>Store Location</th>\n",
       "      <th>County</th>\n",
       "    </tr>\n",
       "  </thead>\n",
       "  <tbody>\n",
       "    <tr>\n",
       "      <th>7571001</th>\n",
       "      <td>4725</td>\n",
       "      <td>Casey's General Store #1548 / Ankeny</td>\n",
       "      <td>2905, W  1ST ST</td>\n",
       "      <td>ANKENY</td>\n",
       "      <td>50023</td>\n",
       "      <td>2905, W 1ST ST\\nANKENY 50023\\n(41.731704, -93....</td>\n",
       "      <td>Polk</td>\n",
       "    </tr>\n",
       "  </tbody>\n",
       "</table>\n",
       "</div>"
      ],
      "text/plain": [
       "         Store Number                            Store Name          Address  \\\n",
       "7571001          4725  Casey's General Store #1548 / Ankeny  2905, W  1ST ST   \n",
       "\n",
       "           City Zip Code                                     Store Location  \\\n",
       "7571001  ANKENY    50023  2905, W 1ST ST\\nANKENY 50023\\n(41.731704, -93....   \n",
       "\n",
       "        County  \n",
       "7571001   Polk  "
      ]
     },
     "execution_count": 47,
     "metadata": {},
     "output_type": "execute_result"
    }
   ],
   "source": [
    "Dim_Tienda_City[Dim_Tienda_City[\"Store Number\"] == 4725].sample(1)"
   ]
  },
  {
   "cell_type": "markdown",
   "metadata": {},
   "source": [
    "FILL ADRESS"
   ]
  },
  {
   "cell_type": "code",
   "execution_count": 48,
   "metadata": {},
   "outputs": [
    {
     "name": "stderr",
     "output_type": "stream",
     "text": [
      "C:\\Users\\jorge\\AppData\\Local\\Temp\\ipykernel_25292\\2683391841.py:23: SettingWithCopyWarning: \n",
      "A value is trying to be set on a copy of a slice from a DataFrame.\n",
      "Try using .loc[row_indexer,col_indexer] = value instead\n",
      "\n",
      "See the caveats in the documentation: https://pandas.pydata.org/pandas-docs/stable/user_guide/indexing.html#returning-a-view-versus-a-copy\n",
      "  dataframe[fill_column] = dataframe.apply(\n"
     ]
    }
   ],
   "source": [
    "Dim_Tienda_Address = fill_column_by_group(Dim_Tienda_City, group_column='Store Number', fill_column='Address')"
   ]
  },
  {
   "cell_type": "code",
   "execution_count": 49,
   "metadata": {},
   "outputs": [
    {
     "data": {
      "text/plain": [
       "Store Number         0\n",
       "Store Name           0\n",
       "Address              1\n",
       "City                 0\n",
       "Zip Code          2420\n",
       "Store Location    2375\n",
       "County               0\n",
       "dtype: int64"
      ]
     },
     "execution_count": 49,
     "metadata": {},
     "output_type": "execute_result"
    }
   ],
   "source": [
    "Dim_Tienda_Address.isna().sum()"
   ]
  },
  {
   "cell_type": "code",
   "execution_count": 166,
   "metadata": {},
   "outputs": [
    {
     "data": {
      "text/html": [
       "<div>\n",
       "<style scoped>\n",
       "    .dataframe tbody tr th:only-of-type {\n",
       "        vertical-align: middle;\n",
       "    }\n",
       "\n",
       "    .dataframe tbody tr th {\n",
       "        vertical-align: top;\n",
       "    }\n",
       "\n",
       "    .dataframe thead th {\n",
       "        text-align: right;\n",
       "    }\n",
       "</style>\n",
       "<table border=\"1\" class=\"dataframe\">\n",
       "  <thead>\n",
       "    <tr style=\"text-align: right;\">\n",
       "      <th></th>\n",
       "      <th>Store Number</th>\n",
       "      <th>Store Name</th>\n",
       "      <th>Address</th>\n",
       "      <th>City</th>\n",
       "      <th>Zip Code</th>\n",
       "      <th>Store Location</th>\n",
       "      <th>County</th>\n",
       "    </tr>\n",
       "  </thead>\n",
       "  <tbody>\n",
       "    <tr>\n",
       "      <th>11757989</th>\n",
       "      <td>9932</td>\n",
       "      <td>3-Oaks Distillery, LLC</td>\n",
       "      <td>NaN</td>\n",
       "      <td>Dubuque</td>\n",
       "      <td>52002.0</td>\n",
       "      <td>Dubuque 52002\\n(42.516027, -90.766335)</td>\n",
       "      <td>DUBUQUE</td>\n",
       "    </tr>\n",
       "  </tbody>\n",
       "</table>\n",
       "</div>"
      ],
      "text/plain": [
       "          Store Number              Store Name Address     City Zip Code  \\\n",
       "11757989          9932  3-Oaks Distillery, LLC     NaN  Dubuque  52002.0   \n",
       "\n",
       "                                  Store Location   County  \n",
       "11757989  Dubuque 52002\\n(42.516027, -90.766335)  DUBUQUE  "
      ]
     },
     "execution_count": 166,
     "metadata": {},
     "output_type": "execute_result"
    }
   ],
   "source": [
    "Dim_Tienda_Address[Dim_Tienda_Address[\"Address\"].isnull()]"
   ]
  },
  {
   "cell_type": "code",
   "execution_count": 51,
   "metadata": {},
   "outputs": [],
   "source": [
    "#Buscamos por internet y rellenamos\n",
    "Dim_Tienda_Address.loc[Dim_Tienda_Address[\"Store Number\"] == 9932, 'Address'] = '23039 Pfeiler Rd, Holy Cross'"
   ]
  },
  {
   "cell_type": "markdown",
   "metadata": {},
   "source": [
    "FILL ZIP CODE"
   ]
  },
  {
   "cell_type": "code",
   "execution_count": 52,
   "metadata": {},
   "outputs": [
    {
     "name": "stderr",
     "output_type": "stream",
     "text": [
      "C:\\Users\\jorge\\AppData\\Local\\Temp\\ipykernel_25292\\2683391841.py:23: SettingWithCopyWarning: \n",
      "A value is trying to be set on a copy of a slice from a DataFrame.\n",
      "Try using .loc[row_indexer,col_indexer] = value instead\n",
      "\n",
      "See the caveats in the documentation: https://pandas.pydata.org/pandas-docs/stable/user_guide/indexing.html#returning-a-view-versus-a-copy\n",
      "  dataframe[fill_column] = dataframe.apply(\n"
     ]
    }
   ],
   "source": [
    "Dim_Tienda_Zip = fill_column_by_group(Dim_Tienda_Address, group_column='Store Number', fill_column='Zip Code')"
   ]
  },
  {
   "cell_type": "code",
   "execution_count": 53,
   "metadata": {},
   "outputs": [
    {
     "data": {
      "text/plain": [
       "Store Number         0\n",
       "Store Name           0\n",
       "Address              0\n",
       "City                 0\n",
       "Zip Code             0\n",
       "Store Location    2375\n",
       "County               0\n",
       "dtype: int64"
      ]
     },
     "execution_count": 53,
     "metadata": {},
     "output_type": "execute_result"
    }
   ],
   "source": [
    "Dim_Tienda_Zip.isna().sum()"
   ]
  },
  {
   "cell_type": "markdown",
   "metadata": {},
   "source": [
    "FILL STORE LOCATION"
   ]
  },
  {
   "cell_type": "code",
   "execution_count": 66,
   "metadata": {},
   "outputs": [
    {
     "name": "stdout",
     "output_type": "stream",
     "text": [
      "Store Location\n",
      "512 8TH SE\\nORANGE CITY 51041\\n(42.997487, -96.052388)    6473\n",
      "512 8th SE\\nOrange City 51041\\n(42.997486, -96.05236)     1319\n",
      "512 8th SE\\nOrange City 51041\\n                           1063\n",
      "512 8TH SE\\nORANGE CITY 51041\\n                            466\n",
      "Name: count, dtype: int64\n"
     ]
    }
   ],
   "source": [
    "#Nos damos cuenta de que Store Location tiene mas de 1 valor unico por columna y no podemos extraer todavia latitud y longitud\n",
    "value_counts = Dim_Tienda_Zip[Dim_Tienda_Zip[\"Store Number\"] == 4255][\"Store Location\"].value_counts()\n",
    "print(value_counts)"
   ]
  },
  {
   "cell_type": "code",
   "execution_count": 72,
   "metadata": {},
   "outputs": [],
   "source": [
    "def rellenar_con_valor_mas_frecuente(df, columna_clave, columna_objetivo, condicion):\n",
    "    \"\"\"\n",
    "    Rellena los valores de la columna de destino usando el valor más frecuente que cumpla una condición,\n",
    "    basado en la columna clave.\n",
    "\n",
    "    Args:\n",
    "        df (pd.DataFrame): El DataFrame original.\n",
    "        columna_clave (str): Nombre de la columna clave para agrupar.\n",
    "        columna_objetivo (str): Nombre de la columna que se rellenará.\n",
    "        condicion (func): Función que define la condición para incluir valores en el cálculo del más frecuente.\n",
    "\n",
    "    Returns:\n",
    "        pd.DataFrame: DataFrame con la columna de destino rellenada.\n",
    "    \"\"\"\n",
    "    # Filtrar la columna de destino según la condición\n",
    "    filtered_data = df[df[columna_objetivo].notnull()]\n",
    "    filtered_data = filtered_data[filtered_data[columna_objetivo].apply(condicion)]\n",
    "\n",
    "    # Crear un diccionario con el valor más frecuente que cumple la condición\n",
    "    valores_mas_frec = (\n",
    "        filtered_data.groupby(columna_clave)[columna_objetivo]\n",
    "        .agg(lambda x: x.value_counts().idxmax())  # Encuentra el valor más frecuente\n",
    "        .to_dict()\n",
    "    )\n",
    "    \n",
    "    # Usar el diccionario para rellenar los valores en la columna de destino\n",
    "    df[columna_objetivo] = df.apply(\n",
    "        lambda row: valores_mas_frec.get(row[columna_clave], row[columna_objetivo]),\n",
    "        axis=1\n",
    "    )\n",
    "    \n",
    "    return df\n"
   ]
  },
  {
   "cell_type": "code",
   "execution_count": 75,
   "metadata": {},
   "outputs": [
    {
     "name": "stderr",
     "output_type": "stream",
     "text": [
      "C:\\Users\\jorge\\AppData\\Local\\Temp\\ipykernel_25292\\4107278958.py:27: SettingWithCopyWarning: \n",
      "A value is trying to be set on a copy of a slice from a DataFrame.\n",
      "Try using .loc[row_indexer,col_indexer] = value instead\n",
      "\n",
      "See the caveats in the documentation: https://pandas.pydata.org/pandas-docs/stable/user_guide/indexing.html#returning-a-view-versus-a-copy\n",
      "  df[columna_objetivo] = df.apply(\n"
     ]
    }
   ],
   "source": [
    "# Aplicar la función al DataFrame\n",
    "Dim_Tienda = rellenar_con_valor_mas_frecuente(\n",
    "    df= Dim_Tienda_Zip,\n",
    "    columna_clave=\"Store Number\",\n",
    "    columna_objetivo=\"Store Location\",\n",
    "    condicion=lambda x: ',' in x  # Condición: Contiene una coma\n",
    ")"
   ]
  },
  {
   "cell_type": "code",
   "execution_count": 76,
   "metadata": {},
   "outputs": [
    {
     "data": {
      "text/plain": [
       "Store Number      0\n",
       "Store Name        0\n",
       "Address           0\n",
       "City              0\n",
       "Zip Code          0\n",
       "Store Location    0\n",
       "County            0\n",
       "dtype: int64"
      ]
     },
     "execution_count": 76,
     "metadata": {},
     "output_type": "execute_result"
    }
   ],
   "source": [
    "Dim_Tienda.isna().sum()"
   ]
  },
  {
   "cell_type": "markdown",
   "metadata": {},
   "source": [
    "LIMPIEZA DATOS"
   ]
  },
  {
   "cell_type": "code",
   "execution_count": 84,
   "metadata": {},
   "outputs": [
    {
     "name": "stderr",
     "output_type": "stream",
     "text": [
      "C:\\Users\\jorge\\AppData\\Local\\Temp\\ipykernel_25292\\1848342622.py:2: SettingWithCopyWarning: \n",
      "A value is trying to be set on a copy of a slice from a DataFrame.\n",
      "Try using .loc[row_indexer,col_indexer] = value instead\n",
      "\n",
      "See the caveats in the documentation: https://pandas.pydata.org/pandas-docs/stable/user_guide/indexing.html#returning-a-view-versus-a-copy\n",
      "  Dim_Tienda['Store Name'] = Dim_Tienda['Store Name'].str.replace(r'\\/.*', '', regex=True)\n"
     ]
    }
   ],
   "source": [
    "#Eliminar texto despues de \"/\"\n",
    "Dim_Tienda['Store Name'] = Dim_Tienda['Store Name'].str.replace(r'\\/.*', '', regex=True)"
   ]
  },
  {
   "cell_type": "code",
   "execution_count": 90,
   "metadata": {},
   "outputs": [
    {
     "name": "stderr",
     "output_type": "stream",
     "text": [
      "C:\\Users\\jorge\\AppData\\Local\\Temp\\ipykernel_25292\\3079979653.py:1: SettingWithCopyWarning: \n",
      "A value is trying to be set on a copy of a slice from a DataFrame\n",
      "\n",
      "See the caveats in the documentation: https://pandas.pydata.org/pandas-docs/stable/user_guide/indexing.html#returning-a-view-versus-a-copy\n",
      "  Dim_Tienda.drop(['Nombre Tienda', 'Store Location'], axis=1, inplace=True)\n"
     ]
    }
   ],
   "source": [
    "Dim_Tienda.drop(['Nombre Tienda', 'Store Location'], axis=1, inplace=True)"
   ]
  },
  {
   "cell_type": "code",
   "execution_count": null,
   "metadata": {},
   "outputs": [],
   "source": [
    "#Eliminar duplicados\n",
    "Dim_Tienda.drop_duplicates(inplace=True)"
   ]
  },
  {
   "cell_type": "code",
   "execution_count": null,
   "metadata": {},
   "outputs": [],
   "source": [
    "# Capitalizar todas las columnas de texto\n",
    "Dim_Tienda = Dim_Tienda.applymap(lambda x: x.capitalize() if isinstance(x, str) else x)"
   ]
  },
  {
   "cell_type": "code",
   "execution_count": 92,
   "metadata": {},
   "outputs": [
    {
     "name": "stderr",
     "output_type": "stream",
     "text": [
      "C:\\Users\\jorge\\AppData\\Local\\Temp\\ipykernel_25292\\2664090332.py:1: SettingWithCopyWarning: \n",
      "A value is trying to be set on a copy of a slice from a DataFrame\n",
      "\n",
      "See the caveats in the documentation: https://pandas.pydata.org/pandas-docs/stable/user_guide/indexing.html#returning-a-view-versus-a-copy\n",
      "  Dim_Tienda.rename(columns={'Store Number': 'Id Tienda', 'Address': 'Direccion', \"City\": \"Ciudad\", \"Zip Code\": \"Codigo Postal\", \"County\": \"Condado\", \"Store Name\": \"Nombre Tienda\"}, inplace=True)\n"
     ]
    }
   ],
   "source": [
    "Dim_Tienda.rename(columns={'Store Number': 'Id Tienda', 'Address': 'Direccion', \"City\": \"Ciudad\", \"Zip Code\": \"Codigo Postal\", \"County\": \"Condado\", \"Store Name\": \"Nombre Tienda\"}, inplace=True)"
   ]
  },
  {
   "cell_type": "code",
   "execution_count": 98,
   "metadata": {},
   "outputs": [
    {
     "name": "stderr",
     "output_type": "stream",
     "text": [
      "C:\\Users\\jorge\\AppData\\Local\\Temp\\ipykernel_25292\\2301584826.py:1: SettingWithCopyWarning: \n",
      "A value is trying to be set on a copy of a slice from a DataFrame\n",
      "\n",
      "See the caveats in the documentation: https://pandas.pydata.org/pandas-docs/stable/user_guide/indexing.html#returning-a-view-versus-a-copy\n",
      "  Dim_Tienda.drop_duplicates(inplace=True)\n"
     ]
    }
   ],
   "source": [
    "Dim_Tienda.drop_duplicates(inplace=True)"
   ]
  },
  {
   "cell_type": "code",
   "execution_count": 99,
   "metadata": {},
   "outputs": [
    {
     "name": "stdout",
     "output_type": "stream",
     "text": [
      "<class 'pandas.core.frame.DataFrame'>\n",
      "Index: 8092 entries, 0 to 12588601\n",
      "Data columns (total 6 columns):\n",
      " #   Column         Non-Null Count  Dtype \n",
      "---  ------         --------------  ----- \n",
      " 0   Id Tienda      8092 non-null   int64 \n",
      " 1   Nombre Tienda  8092 non-null   object\n",
      " 2   Direccion      8092 non-null   object\n",
      " 3   Ciudad         8092 non-null   object\n",
      " 4   Codigo Postal  8092 non-null   object\n",
      " 5   Condado        8092 non-null   object\n",
      "dtypes: int64(1), object(5)\n",
      "memory usage: 442.5+ KB\n"
     ]
    }
   ],
   "source": [
    "Dim_Tienda.info()"
   ]
  },
  {
   "cell_type": "markdown",
   "metadata": {},
   "source": [
    "EXPORTAR"
   ]
  },
  {
   "cell_type": "code",
   "execution_count": 100,
   "metadata": {},
   "outputs": [],
   "source": [
    "#Estraer df\n",
    "Dim_Tienda.to_csv(\"Bd/Dim/Dim_Tienda.csv\", index=False)  # index=False para no guardar el índice como columna"
   ]
  },
  {
   "cell_type": "markdown",
   "metadata": {},
   "source": [
    "DIM ARTICULO"
   ]
  },
  {
   "cell_type": "code",
   "execution_count": 19,
   "metadata": {},
   "outputs": [
    {
     "data": {
      "text/plain": [
       "Index(['Invoice/Item Number', 'Date', 'Store Number', 'Store Name', 'Address',\n",
       "       'City', 'Zip Code', 'Store Location', 'County Number', 'County',\n",
       "       'Category', 'Category Name', 'Vendor Number', 'Vendor Name',\n",
       "       'Item Number', 'Item Description', 'Pack', 'Bottle Volume (ml)',\n",
       "       'State Bottle Cost', 'State Bottle Retail', 'Bottles Sold',\n",
       "       'Sale (Dollars)', 'Volume Sold (Liters)', 'Volume Sold (Gallons)'],\n",
       "      dtype='object')"
      ]
     },
     "execution_count": 19,
     "metadata": {},
     "output_type": "execute_result"
    }
   ],
   "source": [
    "df.columns"
   ]
  },
  {
   "cell_type": "code",
   "execution_count": 20,
   "metadata": {},
   "outputs": [],
   "source": [
    "Dim_Articulo_1 = df[['Item Number', 'Item Description','Category Name', 'Vendor Name', 'Pack', 'Bottle Volume (ml)','State Bottle Cost', 'State Bottle Retail']]"
   ]
  },
  {
   "cell_type": "code",
   "execution_count": 21,
   "metadata": {},
   "outputs": [
    {
     "data": {
      "text/plain": [
       "Item Number                0\n",
       "Item Description           0\n",
       "Category Name          16086\n",
       "Vendor Name                1\n",
       "Pack                       0\n",
       "Bottle Volume (ml)         0\n",
       "State Bottle Cost         10\n",
       "State Bottle Retail       10\n",
       "dtype: int64"
      ]
     },
     "execution_count": 21,
     "metadata": {},
     "output_type": "execute_result"
    }
   ],
   "source": [
    "Dim_Articulo_1.isna().sum()"
   ]
  },
  {
   "cell_type": "code",
   "execution_count": 24,
   "metadata": {},
   "outputs": [
    {
     "data": {
      "text/html": [
       "<div>\n",
       "<style scoped>\n",
       "    .dataframe tbody tr th:only-of-type {\n",
       "        vertical-align: middle;\n",
       "    }\n",
       "\n",
       "    .dataframe tbody tr th {\n",
       "        vertical-align: top;\n",
       "    }\n",
       "\n",
       "    .dataframe thead th {\n",
       "        text-align: right;\n",
       "    }\n",
       "</style>\n",
       "<table border=\"1\" class=\"dataframe\">\n",
       "  <thead>\n",
       "    <tr style=\"text-align: right;\">\n",
       "      <th></th>\n",
       "      <th>Category Name</th>\n",
       "      <th>Item Number</th>\n",
       "    </tr>\n",
       "  </thead>\n",
       "  <tbody>\n",
       "    <tr>\n",
       "      <th>0</th>\n",
       "      <td>NaN</td>\n",
       "      <td>297</td>\n",
       "    </tr>\n",
       "    <tr>\n",
       "      <th>1</th>\n",
       "      <td>NaN</td>\n",
       "      <td>297</td>\n",
       "    </tr>\n",
       "    <tr>\n",
       "      <th>2</th>\n",
       "      <td>NaN</td>\n",
       "      <td>249</td>\n",
       "    </tr>\n",
       "    <tr>\n",
       "      <th>3</th>\n",
       "      <td>NaN</td>\n",
       "      <td>237</td>\n",
       "    </tr>\n",
       "    <tr>\n",
       "      <th>4</th>\n",
       "      <td>NaN</td>\n",
       "      <td>249</td>\n",
       "    </tr>\n",
       "    <tr>\n",
       "      <th>...</th>\n",
       "      <td>...</td>\n",
       "      <td>...</td>\n",
       "    </tr>\n",
       "    <tr>\n",
       "      <th>12588346</th>\n",
       "      <td>NaN</td>\n",
       "      <td>36122</td>\n",
       "    </tr>\n",
       "    <tr>\n",
       "      <th>12589217</th>\n",
       "      <td>NaN</td>\n",
       "      <td>80145</td>\n",
       "    </tr>\n",
       "    <tr>\n",
       "      <th>12589284</th>\n",
       "      <td>NaN</td>\n",
       "      <td>43439</td>\n",
       "    </tr>\n",
       "    <tr>\n",
       "      <th>12589614</th>\n",
       "      <td>NaN</td>\n",
       "      <td>100041</td>\n",
       "    </tr>\n",
       "    <tr>\n",
       "      <th>12590161</th>\n",
       "      <td>NaN</td>\n",
       "      <td>43439</td>\n",
       "    </tr>\n",
       "  </tbody>\n",
       "</table>\n",
       "<p>16086 rows × 2 columns</p>\n",
       "</div>"
      ],
      "text/plain": [
       "         Category Name  Item Number\n",
       "0                  NaN          297\n",
       "1                  NaN          297\n",
       "2                  NaN          249\n",
       "3                  NaN          237\n",
       "4                  NaN          249\n",
       "...                ...          ...\n",
       "12588346           NaN        36122\n",
       "12589217           NaN        80145\n",
       "12589284           NaN        43439\n",
       "12589614           NaN       100041\n",
       "12590161           NaN        43439\n",
       "\n",
       "[16086 rows x 2 columns]"
      ]
     },
     "execution_count": 24,
     "metadata": {},
     "output_type": "execute_result"
    }
   ],
   "source": [
    "# Filtrar filas donde la columna 'county' está vacía\n",
    "filtered_rows = Dim_Articulo_1[Dim_Articulo_1['Category Name'].isnull() | (Dim_Articulo_1['Category Name'] == '')]\n",
    "\n",
    "# Mostrar únicamente las columnas 'county' y 'store number'\n",
    "nulls = filtered_rows[['Category Name', 'Item Number']]\n",
    "nulls"
   ]
  },
  {
   "cell_type": "code",
   "execution_count": 26,
   "metadata": {},
   "outputs": [
    {
     "data": {
      "text/plain": [
       "Item Number  Item Description                  Category Name  Vendor Name      Pack  Bottle Volume (ml)  State Bottle Cost  State Bottle Retail\n",
       "43439        Captain Morgan Jack-O Blast Mini  Flavored Rum   DIAGEO AMERICAS  12    500                 $4.96              $7.44                  210\n",
       "Name: count, dtype: int64"
      ]
     },
     "execution_count": 26,
     "metadata": {},
     "output_type": "execute_result"
    }
   ],
   "source": [
    "values = Dim_Articulo_1[Dim_Articulo_1[\"Item Number\"] == 43439].value_counts()\n",
    "values"
   ]
  },
  {
   "cell_type": "code",
   "execution_count": 29,
   "metadata": {},
   "outputs": [
    {
     "name": "stderr",
     "output_type": "stream",
     "text": [
      "C:\\Users\\jorge\\AppData\\Local\\Temp\\ipykernel_17544\\3984453287.py:24: SettingWithCopyWarning: \n",
      "A value is trying to be set on a copy of a slice from a DataFrame.\n",
      "Try using .loc[row_indexer,col_indexer] = value instead\n",
      "\n",
      "See the caveats in the documentation: https://pandas.pydata.org/pandas-docs/stable/user_guide/indexing.html#returning-a-view-versus-a-copy\n",
      "  dataframe[fill_column] = dataframe.apply(\n"
     ]
    }
   ],
   "source": [
    "Dim_Articulo_2 = fill_column_by_group(Dim_Articulo_1, group_column='Item Number', fill_column='Category Name')"
   ]
  },
  {
   "cell_type": "code",
   "execution_count": 30,
   "metadata": {},
   "outputs": [
    {
     "data": {
      "text/plain": [
       "Item Number               0\n",
       "Item Description          0\n",
       "Category Name          1488\n",
       "Vendor Name               1\n",
       "Pack                      0\n",
       "Bottle Volume (ml)        0\n",
       "State Bottle Cost        10\n",
       "State Bottle Retail      10\n",
       "dtype: int64"
      ]
     },
     "execution_count": 30,
     "metadata": {},
     "output_type": "execute_result"
    }
   ],
   "source": [
    "Dim_Articulo_2.isna().sum()"
   ]
  },
  {
   "cell_type": "code",
   "execution_count": 33,
   "metadata": {},
   "outputs": [
    {
     "data": {
      "text/html": [
       "<div>\n",
       "<style scoped>\n",
       "    .dataframe tbody tr th:only-of-type {\n",
       "        vertical-align: middle;\n",
       "    }\n",
       "\n",
       "    .dataframe tbody tr th {\n",
       "        vertical-align: top;\n",
       "    }\n",
       "\n",
       "    .dataframe thead th {\n",
       "        text-align: right;\n",
       "    }\n",
       "</style>\n",
       "<table border=\"1\" class=\"dataframe\">\n",
       "  <thead>\n",
       "    <tr style=\"text-align: right;\">\n",
       "      <th></th>\n",
       "      <th>State Bottle Cost</th>\n",
       "      <th>Item Number</th>\n",
       "    </tr>\n",
       "  </thead>\n",
       "  <tbody>\n",
       "    <tr>\n",
       "      <th>199088</th>\n",
       "      <td>NaN</td>\n",
       "      <td>38180</td>\n",
       "    </tr>\n",
       "    <tr>\n",
       "      <th>356024</th>\n",
       "      <td>NaN</td>\n",
       "      <td>38180</td>\n",
       "    </tr>\n",
       "    <tr>\n",
       "      <th>1247099</th>\n",
       "      <td>NaN</td>\n",
       "      <td>35920</td>\n",
       "    </tr>\n",
       "    <tr>\n",
       "      <th>1306628</th>\n",
       "      <td>NaN</td>\n",
       "      <td>35920</td>\n",
       "    </tr>\n",
       "    <tr>\n",
       "      <th>1428507</th>\n",
       "      <td>NaN</td>\n",
       "      <td>38180</td>\n",
       "    </tr>\n",
       "    <tr>\n",
       "      <th>1896582</th>\n",
       "      <td>NaN</td>\n",
       "      <td>38180</td>\n",
       "    </tr>\n",
       "    <tr>\n",
       "      <th>3003583</th>\n",
       "      <td>NaN</td>\n",
       "      <td>38180</td>\n",
       "    </tr>\n",
       "    <tr>\n",
       "      <th>4337985</th>\n",
       "      <td>NaN</td>\n",
       "      <td>35920</td>\n",
       "    </tr>\n",
       "    <tr>\n",
       "      <th>4536650</th>\n",
       "      <td>NaN</td>\n",
       "      <td>38180</td>\n",
       "    </tr>\n",
       "    <tr>\n",
       "      <th>6017165</th>\n",
       "      <td>NaN</td>\n",
       "      <td>38180</td>\n",
       "    </tr>\n",
       "  </tbody>\n",
       "</table>\n",
       "</div>"
      ],
      "text/plain": [
       "        State Bottle Cost  Item Number\n",
       "199088                NaN        38180\n",
       "356024                NaN        38180\n",
       "1247099               NaN        35920\n",
       "1306628               NaN        35920\n",
       "1428507               NaN        38180\n",
       "1896582               NaN        38180\n",
       "3003583               NaN        38180\n",
       "4337985               NaN        35920\n",
       "4536650               NaN        38180\n",
       "6017165               NaN        38180"
      ]
     },
     "execution_count": 33,
     "metadata": {},
     "output_type": "execute_result"
    }
   ],
   "source": [
    "# Filtrar filas donde la columna 'county' está vacía\n",
    "filtered_rows = Dim_Articulo_2[Dim_Articulo_2['State Bottle Cost'].isnull() | (Dim_Articulo_2['State Bottle Cost'] == '')]\n",
    "\n",
    "# Mostrar únicamente las columnas 'county' y 'store number'\n",
    "nulls = filtered_rows[['State Bottle Cost', 'Item Number']]\n",
    "nulls"
   ]
  },
  {
   "cell_type": "code",
   "execution_count": 34,
   "metadata": {},
   "outputs": [
    {
     "name": "stderr",
     "output_type": "stream",
     "text": [
      "C:\\Users\\jorge\\AppData\\Local\\Temp\\ipykernel_17544\\3984453287.py:24: SettingWithCopyWarning: \n",
      "A value is trying to be set on a copy of a slice from a DataFrame.\n",
      "Try using .loc[row_indexer,col_indexer] = value instead\n",
      "\n",
      "See the caveats in the documentation: https://pandas.pydata.org/pandas-docs/stable/user_guide/indexing.html#returning-a-view-versus-a-copy\n",
      "  dataframe[fill_column] = dataframe.apply(\n"
     ]
    }
   ],
   "source": [
    "Dim_Articulo_3 = fill_column_by_group(Dim_Articulo_2, group_column='Item Number', fill_column='State Bottle Cost')\n",
    "Dim_Articulo_4 = fill_column_by_group(Dim_Articulo_3, group_column='Item Number', fill_column='State Bottle Retail')"
   ]
  },
  {
   "cell_type": "code",
   "execution_count": 40,
   "metadata": {},
   "outputs": [
    {
     "data": {
      "text/html": [
       "<div>\n",
       "<style scoped>\n",
       "    .dataframe tbody tr th:only-of-type {\n",
       "        vertical-align: middle;\n",
       "    }\n",
       "\n",
       "    .dataframe tbody tr th {\n",
       "        vertical-align: top;\n",
       "    }\n",
       "\n",
       "    .dataframe thead th {\n",
       "        text-align: right;\n",
       "    }\n",
       "</style>\n",
       "<table border=\"1\" class=\"dataframe\">\n",
       "  <thead>\n",
       "    <tr style=\"text-align: right;\">\n",
       "      <th></th>\n",
       "      <th>Item Number</th>\n",
       "      <th>Item Description</th>\n",
       "      <th>Category Name</th>\n",
       "      <th>Vendor Name</th>\n",
       "      <th>Pack</th>\n",
       "      <th>Bottle Volume (ml)</th>\n",
       "      <th>State Bottle Cost</th>\n",
       "      <th>State Bottle Retail</th>\n",
       "    </tr>\n",
       "  </thead>\n",
       "  <tbody>\n",
       "    <tr>\n",
       "      <th>11170669</th>\n",
       "      <td>905433</td>\n",
       "      <td>Laphroaig Quarter Cask</td>\n",
       "      <td>NaN</td>\n",
       "      <td>NaN</td>\n",
       "      <td>6</td>\n",
       "      <td>750</td>\n",
       "      <td>$4.17</td>\n",
       "      <td>$47.24</td>\n",
       "    </tr>\n",
       "  </tbody>\n",
       "</table>\n",
       "</div>"
      ],
      "text/plain": [
       "          Item Number        Item Description Category Name Vendor Name  Pack  \\\n",
       "11170669       905433  Laphroaig Quarter Cask           NaN         NaN     6   \n",
       "\n",
       "          Bottle Volume (ml) State Bottle Cost State Bottle Retail  \n",
       "11170669                 750             $4.17              $47.24  "
      ]
     },
     "execution_count": 40,
     "metadata": {},
     "output_type": "execute_result"
    }
   ],
   "source": [
    "filtered_rows = Dim_Articulo_4[Dim_Articulo_4['Vendor Name'].isnull()]\n",
    "filtered_rows"
   ]
  },
  {
   "cell_type": "code",
   "execution_count": 39,
   "metadata": {},
   "outputs": [
    {
     "data": {
      "text/html": [
       "<div>\n",
       "<style scoped>\n",
       "    .dataframe tbody tr th:only-of-type {\n",
       "        vertical-align: middle;\n",
       "    }\n",
       "\n",
       "    .dataframe tbody tr th {\n",
       "        vertical-align: top;\n",
       "    }\n",
       "\n",
       "    .dataframe thead th {\n",
       "        text-align: right;\n",
       "    }\n",
       "</style>\n",
       "<table border=\"1\" class=\"dataframe\">\n",
       "  <thead>\n",
       "    <tr style=\"text-align: right;\">\n",
       "      <th></th>\n",
       "      <th>Item Number</th>\n",
       "      <th>Item Description</th>\n",
       "      <th>Category Name</th>\n",
       "      <th>Vendor Name</th>\n",
       "      <th>Pack</th>\n",
       "      <th>Bottle Volume (ml)</th>\n",
       "      <th>State Bottle Cost</th>\n",
       "      <th>State Bottle Retail</th>\n",
       "    </tr>\n",
       "  </thead>\n",
       "  <tbody>\n",
       "    <tr>\n",
       "      <th>11170669</th>\n",
       "      <td>905433</td>\n",
       "      <td>Laphroaig Quarter Cask</td>\n",
       "      <td>NaN</td>\n",
       "      <td>NaN</td>\n",
       "      <td>6</td>\n",
       "      <td>750</td>\n",
       "      <td>$4.17</td>\n",
       "      <td>$47.24</td>\n",
       "    </tr>\n",
       "  </tbody>\n",
       "</table>\n",
       "</div>"
      ],
      "text/plain": [
       "          Item Number        Item Description Category Name Vendor Name  Pack  \\\n",
       "11170669       905433  Laphroaig Quarter Cask           NaN         NaN     6   \n",
       "\n",
       "          Bottle Volume (ml) State Bottle Cost State Bottle Retail  \n",
       "11170669                 750             $4.17              $47.24  "
      ]
     },
     "execution_count": 39,
     "metadata": {},
     "output_type": "execute_result"
    }
   ],
   "source": [
    "Dim_Articulo_4[Dim_Articulo_4[\"Item Number\"] == 905433] "
   ]
  },
  {
   "cell_type": "code",
   "execution_count": 46,
   "metadata": {},
   "outputs": [
    {
     "data": {
      "text/plain": [
       "Category Name\n",
       "SCOTCH WHISKIES       190\n",
       "SINGLE MALT SCOTCH     25\n",
       "Scotch Whiskies         9\n",
       "Name: count, dtype: int64"
      ]
     },
     "execution_count": 46,
     "metadata": {},
     "output_type": "execute_result"
    }
   ],
   "source": [
    "value = Dim_Articulo_4[(Dim_Articulo_4[\"Item Description\"] == \"Laphroaig Quarter Cask\") & (Dim_Articulo_4[\"Bottle Volume (ml)\"] == 750)]\n",
    "value[\"Category Name\"].value_counts()"
   ]
  },
  {
   "cell_type": "code",
   "execution_count": 47,
   "metadata": {},
   "outputs": [],
   "source": [
    "Dim_Articulo_4.loc[Dim_Articulo_4['Item Number'] == 905433, 'Vendor Name'] = \"Jim Beam Brands\"\n",
    "Dim_Articulo_4.loc[Dim_Articulo_4['Item Number'] == 905433, 'Category Name'] = \"Scotch Whiskies\""
   ]
  },
  {
   "cell_type": "code",
   "execution_count": 48,
   "metadata": {},
   "outputs": [
    {
     "data": {
      "text/plain": [
       "Item Number               0\n",
       "Item Description          0\n",
       "Category Name          1487\n",
       "Vendor Name               0\n",
       "Pack                      0\n",
       "Bottle Volume (ml)        0\n",
       "State Bottle Cost         0\n",
       "State Bottle Retail       0\n",
       "dtype: int64"
      ]
     },
     "execution_count": 48,
     "metadata": {},
     "output_type": "execute_result"
    }
   ],
   "source": [
    "Dim_Articulo_4.isna().sum()"
   ]
  },
  {
   "cell_type": "code",
   "execution_count": 57,
   "metadata": {},
   "outputs": [],
   "source": [
    "def fill_column_by_multiple_groups(dataframe, group_columns, fill_column):\n",
    "    \"\"\"\n",
    "    Rellena los valores vacíos en una columna específica usando los valores no vacíos \n",
    "    correspondientes al mismo grupo definido por una o más columnas.\n",
    "\n",
    "    Args:\n",
    "        dataframe (pd.DataFrame): El DataFrame original.\n",
    "        group_columns (list): Lista de nombres de columnas para agrupar (por ejemplo, ['Store Number', 'City']).\n",
    "        fill_column (str): El nombre de la columna donde se deben rellenar los valores (por ejemplo, 'County').\n",
    "\n",
    "    Returns:\n",
    "        pd.DataFrame: DataFrame con los valores de la columna rellenados.\n",
    "    \"\"\"\n",
    "    # Crear un diccionario que mapea los grupos a un valor no vacío en la columna de relleno\n",
    "    group_to_value = (\n",
    "        dataframe[dataframe[fill_column].notnull() & (dataframe[fill_column] != '')]\n",
    "        .groupby(group_columns)[fill_column]\n",
    "        .first()\n",
    "        .to_dict()\n",
    "    )\n",
    "    \n",
    "    # Usar el diccionario para rellenar los valores vacíos en la columna especificada\n",
    "    dataframe[fill_column] = dataframe.apply(\n",
    "        lambda row: group_to_value.get(\n",
    "            tuple(row[col] for col in group_columns),  # Convertir las columnas de grupo en tupla como clave\n",
    "            row[fill_column]\n",
    "        ) if pd.isnull(row[fill_column]) or row[fill_column] == '' else row[fill_column], \n",
    "        axis=1\n",
    "    )\n",
    "    return dataframe"
   ]
  },
  {
   "cell_type": "code",
   "execution_count": 58,
   "metadata": {},
   "outputs": [
    {
     "name": "stderr",
     "output_type": "stream",
     "text": [
      "C:\\Users\\jorge\\AppData\\Local\\Temp\\ipykernel_17544\\1137355349.py:23: SettingWithCopyWarning: \n",
      "A value is trying to be set on a copy of a slice from a DataFrame.\n",
      "Try using .loc[row_indexer,col_indexer] = value instead\n",
      "\n",
      "See the caveats in the documentation: https://pandas.pydata.org/pandas-docs/stable/user_guide/indexing.html#returning-a-view-versus-a-copy\n",
      "  dataframe[fill_column] = dataframe.apply(\n"
     ]
    }
   ],
   "source": [
    "Dim_Articulo_5 = fill_column_by_multiple_groups(Dim_Articulo_4, [\"Vendor Name\", \"State Bottle Cost\", \"State Bottle Retail\", \"Item Description\"], \"Category Name\")"
   ]
  },
  {
   "cell_type": "code",
   "execution_count": 59,
   "metadata": {},
   "outputs": [
    {
     "data": {
      "text/plain": [
       "Item Number               0\n",
       "Item Description          0\n",
       "Category Name          1432\n",
       "Vendor Name               0\n",
       "Pack                      0\n",
       "Bottle Volume (ml)        0\n",
       "State Bottle Cost         0\n",
       "State Bottle Retail       0\n",
       "dtype: int64"
      ]
     },
     "execution_count": 59,
     "metadata": {},
     "output_type": "execute_result"
    }
   ],
   "source": [
    "Dim_Articulo_5.isna().sum()"
   ]
  },
  {
   "cell_type": "code",
   "execution_count": 64,
   "metadata": {},
   "outputs": [],
   "source": [
    "filtered_rows = Dim_Articulo_5[Dim_Articulo_4['Category Name'].isnull()]"
   ]
  },
  {
   "cell_type": "code",
   "execution_count": 65,
   "metadata": {},
   "outputs": [
    {
     "data": {
      "text/plain": [
       "Item Number\n",
       "3337      201\n",
       "100229    138\n",
       "559        90\n",
       "1488       86\n",
       "100232     77\n",
       "100282     68\n",
       "80128      67\n",
       "905211     41\n",
       "333        40\n",
       "1475       39\n",
       "Name: count, dtype: int64"
      ]
     },
     "execution_count": 65,
     "metadata": {},
     "output_type": "execute_result"
    }
   ],
   "source": [
    "filtered_rows[\"Item Number\"].value_counts().head(10)"
   ]
  },
  {
   "cell_type": "code",
   "execution_count": 83,
   "metadata": {},
   "outputs": [
    {
     "data": {
      "text/html": [
       "<div>\n",
       "<style scoped>\n",
       "    .dataframe tbody tr th:only-of-type {\n",
       "        vertical-align: middle;\n",
       "    }\n",
       "\n",
       "    .dataframe tbody tr th {\n",
       "        vertical-align: top;\n",
       "    }\n",
       "\n",
       "    .dataframe thead th {\n",
       "        text-align: right;\n",
       "    }\n",
       "</style>\n",
       "<table border=\"1\" class=\"dataframe\">\n",
       "  <thead>\n",
       "    <tr style=\"text-align: right;\">\n",
       "      <th></th>\n",
       "      <th>Item Number</th>\n",
       "      <th>Item Description</th>\n",
       "      <th>Category Name</th>\n",
       "      <th>Vendor Name</th>\n",
       "      <th>Pack</th>\n",
       "      <th>Bottle Volume (ml)</th>\n",
       "      <th>State Bottle Cost</th>\n",
       "      <th>State Bottle Retail</th>\n",
       "    </tr>\n",
       "  </thead>\n",
       "  <tbody>\n",
       "    <tr>\n",
       "      <th>12327523</th>\n",
       "      <td>80128</td>\n",
       "      <td>Ezra Brooks Bourbon Cream Mini</td>\n",
       "      <td>NaN</td>\n",
       "      <td>LUXCO INC</td>\n",
       "      <td>12</td>\n",
       "      <td>50</td>\n",
       "      <td>$4.67</td>\n",
       "      <td>$7.01</td>\n",
       "    </tr>\n",
       "    <tr>\n",
       "      <th>12330430</th>\n",
       "      <td>80128</td>\n",
       "      <td>Ezra Brooks Bourbon Cream Mini</td>\n",
       "      <td>NaN</td>\n",
       "      <td>LUXCO INC</td>\n",
       "      <td>12</td>\n",
       "      <td>50</td>\n",
       "      <td>$4.67</td>\n",
       "      <td>$7.01</td>\n",
       "    </tr>\n",
       "    <tr>\n",
       "      <th>12331666</th>\n",
       "      <td>80128</td>\n",
       "      <td>Ezra Brooks Bourbon Cream Mini</td>\n",
       "      <td>NaN</td>\n",
       "      <td>LUXCO INC</td>\n",
       "      <td>12</td>\n",
       "      <td>50</td>\n",
       "      <td>$4.67</td>\n",
       "      <td>$7.01</td>\n",
       "    </tr>\n",
       "    <tr>\n",
       "      <th>12332670</th>\n",
       "      <td>80128</td>\n",
       "      <td>Ezra Brooks Bourbon Cream Mini</td>\n",
       "      <td>NaN</td>\n",
       "      <td>LUXCO INC</td>\n",
       "      <td>12</td>\n",
       "      <td>50</td>\n",
       "      <td>$4.67</td>\n",
       "      <td>$7.01</td>\n",
       "    </tr>\n",
       "    <tr>\n",
       "      <th>12333433</th>\n",
       "      <td>80128</td>\n",
       "      <td>Ezra Brooks Bourbon Cream Mini</td>\n",
       "      <td>NaN</td>\n",
       "      <td>LUXCO INC</td>\n",
       "      <td>12</td>\n",
       "      <td>50</td>\n",
       "      <td>$4.67</td>\n",
       "      <td>$7.01</td>\n",
       "    </tr>\n",
       "    <tr>\n",
       "      <th>...</th>\n",
       "      <td>...</td>\n",
       "      <td>...</td>\n",
       "      <td>...</td>\n",
       "      <td>...</td>\n",
       "      <td>...</td>\n",
       "      <td>...</td>\n",
       "      <td>...</td>\n",
       "      <td>...</td>\n",
       "    </tr>\n",
       "    <tr>\n",
       "      <th>12539927</th>\n",
       "      <td>80128</td>\n",
       "      <td>Ezra Brooks Bourbon Cream Mini</td>\n",
       "      <td>NaN</td>\n",
       "      <td>LUXCO INC</td>\n",
       "      <td>12</td>\n",
       "      <td>50</td>\n",
       "      <td>$4.67</td>\n",
       "      <td>$7.01</td>\n",
       "    </tr>\n",
       "    <tr>\n",
       "      <th>12556907</th>\n",
       "      <td>80128</td>\n",
       "      <td>Ezra Brooks Bourbon Cream Mini</td>\n",
       "      <td>NaN</td>\n",
       "      <td>LUXCO INC</td>\n",
       "      <td>12</td>\n",
       "      <td>50</td>\n",
       "      <td>$4.67</td>\n",
       "      <td>$7.01</td>\n",
       "    </tr>\n",
       "    <tr>\n",
       "      <th>12574854</th>\n",
       "      <td>80128</td>\n",
       "      <td>Ezra Brooks Bourbon Cream Mini</td>\n",
       "      <td>NaN</td>\n",
       "      <td>LUXCO INC</td>\n",
       "      <td>12</td>\n",
       "      <td>50</td>\n",
       "      <td>$4.67</td>\n",
       "      <td>$7.01</td>\n",
       "    </tr>\n",
       "    <tr>\n",
       "      <th>12585804</th>\n",
       "      <td>80128</td>\n",
       "      <td>Ezra Brooks Bourbon Cream Mini</td>\n",
       "      <td>NaN</td>\n",
       "      <td>LUXCO INC</td>\n",
       "      <td>12</td>\n",
       "      <td>50</td>\n",
       "      <td>$4.67</td>\n",
       "      <td>$7.01</td>\n",
       "    </tr>\n",
       "    <tr>\n",
       "      <th>12587310</th>\n",
       "      <td>80128</td>\n",
       "      <td>Ezra Brooks Bourbon Cream Mini</td>\n",
       "      <td>NaN</td>\n",
       "      <td>LUXCO INC</td>\n",
       "      <td>12</td>\n",
       "      <td>50</td>\n",
       "      <td>$4.67</td>\n",
       "      <td>$7.01</td>\n",
       "    </tr>\n",
       "  </tbody>\n",
       "</table>\n",
       "<p>67 rows × 8 columns</p>\n",
       "</div>"
      ],
      "text/plain": [
       "          Item Number                Item Description Category Name  \\\n",
       "12327523        80128  Ezra Brooks Bourbon Cream Mini           NaN   \n",
       "12330430        80128  Ezra Brooks Bourbon Cream Mini           NaN   \n",
       "12331666        80128  Ezra Brooks Bourbon Cream Mini           NaN   \n",
       "12332670        80128  Ezra Brooks Bourbon Cream Mini           NaN   \n",
       "12333433        80128  Ezra Brooks Bourbon Cream Mini           NaN   \n",
       "...               ...                             ...           ...   \n",
       "12539927        80128  Ezra Brooks Bourbon Cream Mini           NaN   \n",
       "12556907        80128  Ezra Brooks Bourbon Cream Mini           NaN   \n",
       "12574854        80128  Ezra Brooks Bourbon Cream Mini           NaN   \n",
       "12585804        80128  Ezra Brooks Bourbon Cream Mini           NaN   \n",
       "12587310        80128  Ezra Brooks Bourbon Cream Mini           NaN   \n",
       "\n",
       "         Vendor Name  Pack  Bottle Volume (ml) State Bottle Cost  \\\n",
       "12327523   LUXCO INC    12                  50             $4.67   \n",
       "12330430   LUXCO INC    12                  50             $4.67   \n",
       "12331666   LUXCO INC    12                  50             $4.67   \n",
       "12332670   LUXCO INC    12                  50             $4.67   \n",
       "12333433   LUXCO INC    12                  50             $4.67   \n",
       "...              ...   ...                 ...               ...   \n",
       "12539927   LUXCO INC    12                  50             $4.67   \n",
       "12556907   LUXCO INC    12                  50             $4.67   \n",
       "12574854   LUXCO INC    12                  50             $4.67   \n",
       "12585804   LUXCO INC    12                  50             $4.67   \n",
       "12587310   LUXCO INC    12                  50             $4.67   \n",
       "\n",
       "         State Bottle Retail  \n",
       "12327523               $7.01  \n",
       "12330430               $7.01  \n",
       "12331666               $7.01  \n",
       "12332670               $7.01  \n",
       "12333433               $7.01  \n",
       "...                      ...  \n",
       "12539927               $7.01  \n",
       "12556907               $7.01  \n",
       "12574854               $7.01  \n",
       "12585804               $7.01  \n",
       "12587310               $7.01  \n",
       "\n",
       "[67 rows x 8 columns]"
      ]
     },
     "execution_count": 83,
     "metadata": {},
     "output_type": "execute_result"
    }
   ],
   "source": [
    "Dim_Articulo_5[Dim_Articulo_5[\"Item Number\"] == 80128] "
   ]
  },
  {
   "cell_type": "code",
   "execution_count": 85,
   "metadata": {},
   "outputs": [],
   "source": [
    "Dim_Articulo_5.loc[Dim_Articulo_5[\"Item Number\"] == 3337, 'Category Name'] = 'Bourbon Whiskey'\n",
    "Dim_Articulo_5.loc[Dim_Articulo_5[\"Item Number\"] == 100229, 'Category Name'] = 'Whiskey'\n",
    "Dim_Articulo_5.loc[Dim_Articulo_5[\"Item Number\"] == 559, 'Category Name'] = 'Vodka'\n",
    "Dim_Articulo_5.loc[Dim_Articulo_5[\"Item Number\"] == 1488, 'Category Name'] = 'Vermouth'\n",
    "Dim_Articulo_5.loc[Dim_Articulo_5[\"Item Number\"] == 100232, 'Category Name'] = 'Tequila'\n",
    "Dim_Articulo_5.loc[Dim_Articulo_5[\"Item Number\"] == 100282, 'Category Name'] = 'Whiskey'\n",
    "Dim_Articulo_5.loc[Dim_Articulo_5[\"Item Number\"] == 80128, 'Category Name'] = 'Liqueur'"
   ]
  },
  {
   "cell_type": "code",
   "execution_count": 87,
   "metadata": {},
   "outputs": [
    {
     "name": "stderr",
     "output_type": "stream",
     "text": [
      "C:\\Users\\jorge\\AppData\\Local\\Temp\\ipykernel_17544\\958807941.py:1: SettingWithCopyWarning: \n",
      "A value is trying to be set on a copy of a slice from a DataFrame\n",
      "\n",
      "See the caveats in the documentation: https://pandas.pydata.org/pandas-docs/stable/user_guide/indexing.html#returning-a-view-versus-a-copy\n",
      "  Dim_Articulo_5[\"Category Name\"].fillna(\"Desconocido\", inplace=True)\n"
     ]
    }
   ],
   "source": [
    "Dim_Articulo_5[\"Category Name\"].fillna(\"Desconocido\", inplace=True)"
   ]
  },
  {
   "cell_type": "code",
   "execution_count": 88,
   "metadata": {},
   "outputs": [
    {
     "data": {
      "text/plain": [
       "Item Number            0\n",
       "Item Description       0\n",
       "Category Name          0\n",
       "Vendor Name            0\n",
       "Pack                   0\n",
       "Bottle Volume (ml)     0\n",
       "State Bottle Cost      0\n",
       "State Bottle Retail    0\n",
       "dtype: int64"
      ]
     },
     "execution_count": 88,
     "metadata": {},
     "output_type": "execute_result"
    }
   ],
   "source": [
    "Dim_Articulo_5.isna().sum()"
   ]
  },
  {
   "cell_type": "code",
   "execution_count": 89,
   "metadata": {},
   "outputs": [
    {
     "name": "stderr",
     "output_type": "stream",
     "text": [
      "C:\\Users\\jorge\\AppData\\Local\\Temp\\ipykernel_17544\\4214513777.py:1: SettingWithCopyWarning: \n",
      "A value is trying to be set on a copy of a slice from a DataFrame\n",
      "\n",
      "See the caveats in the documentation: https://pandas.pydata.org/pandas-docs/stable/user_guide/indexing.html#returning-a-view-versus-a-copy\n",
      "  Dim_Articulo_5.rename(columns={\"Item Number\":\"Id Articulo\", \"Item Descripcion\": \"Nombre Articulo\", \"Category Name\": \"Categoria\", \"Vendor Name\": \"Nombre Vendedor\", \"Bottle Volume (ml)\": \"Tamaño (ml)\", \"State Bottle Cost\": \"Precio Coste\", \"State Bottle Retail\": \"Precio Venta\"}, inplace=True)\n"
     ]
    }
   ],
   "source": [
    "Dim_Articulo_5.rename(columns={\"Item Number\":\"Id Articulo\", \"Item Description\": \"Nombre Articulo\", \"Category Name\": \"Categoria\", \"Vendor Name\": \"Nombre Vendedor\", \"Bottle Volume (ml)\": \"Tamaño (ml)\", \"State Bottle Cost\": \"Precio Coste\", \"State Bottle Retail\": \"Precio Venta\"}, inplace=True)"
   ]
  },
  {
   "cell_type": "code",
   "execution_count": 91,
   "metadata": {},
   "outputs": [
    {
     "name": "stderr",
     "output_type": "stream",
     "text": [
      "C:\\Users\\jorge\\AppData\\Local\\Temp\\ipykernel_17544\\42809959.py:1: SettingWithCopyWarning: \n",
      "A value is trying to be set on a copy of a slice from a DataFrame\n",
      "\n",
      "See the caveats in the documentation: https://pandas.pydata.org/pandas-docs/stable/user_guide/indexing.html#returning-a-view-versus-a-copy\n",
      "  Dim_Articulo_5.rename(columns={\"Item Description\": \"Nombre Articulo\"}, inplace=True)\n"
     ]
    }
   ],
   "source": [
    "Dim_Articulo_5.rename(columns={\"Item Description\": \"Nombre Articulo\"}, inplace=True)"
   ]
  },
  {
   "cell_type": "code",
   "execution_count": 92,
   "metadata": {},
   "outputs": [
    {
     "data": {
      "text/html": [
       "<div>\n",
       "<style scoped>\n",
       "    .dataframe tbody tr th:only-of-type {\n",
       "        vertical-align: middle;\n",
       "    }\n",
       "\n",
       "    .dataframe tbody tr th {\n",
       "        vertical-align: top;\n",
       "    }\n",
       "\n",
       "    .dataframe thead th {\n",
       "        text-align: right;\n",
       "    }\n",
       "</style>\n",
       "<table border=\"1\" class=\"dataframe\">\n",
       "  <thead>\n",
       "    <tr style=\"text-align: right;\">\n",
       "      <th></th>\n",
       "      <th>Id Articulo</th>\n",
       "      <th>Nombre Articulo</th>\n",
       "      <th>Categoria</th>\n",
       "      <th>Nombre Vendedor</th>\n",
       "      <th>Pack</th>\n",
       "      <th>Tamaño (ml)</th>\n",
       "      <th>Precio Coste</th>\n",
       "      <th>Precio Venta</th>\n",
       "    </tr>\n",
       "  </thead>\n",
       "  <tbody>\n",
       "    <tr>\n",
       "      <th>0</th>\n",
       "      <td>297</td>\n",
       "      <td>Templeton Rye w/Flask</td>\n",
       "      <td>DECANTERS &amp; SPECIALTY PACKAGES</td>\n",
       "      <td>Wilson Daniels Ltd.</td>\n",
       "      <td>6</td>\n",
       "      <td>750</td>\n",
       "      <td>$18.09</td>\n",
       "      <td>$27.14</td>\n",
       "    </tr>\n",
       "  </tbody>\n",
       "</table>\n",
       "</div>"
      ],
      "text/plain": [
       "   Id Articulo        Nombre Articulo                       Categoria  \\\n",
       "0          297  Templeton Rye w/Flask  DECANTERS & SPECIALTY PACKAGES   \n",
       "\n",
       "       Nombre Vendedor  Pack  Tamaño (ml) Precio Coste Precio Venta  \n",
       "0  Wilson Daniels Ltd.     6          750       $18.09       $27.14  "
      ]
     },
     "execution_count": 92,
     "metadata": {},
     "output_type": "execute_result"
    }
   ],
   "source": [
    "Dim_Articulo_5.head(1)"
   ]
  },
  {
   "cell_type": "code",
   "execution_count": 93,
   "metadata": {},
   "outputs": [
    {
     "name": "stderr",
     "output_type": "stream",
     "text": [
      "C:\\Users\\jorge\\AppData\\Local\\Temp\\ipykernel_17544\\360612538.py:1: SettingWithCopyWarning: \n",
      "A value is trying to be set on a copy of a slice from a DataFrame\n",
      "\n",
      "See the caveats in the documentation: https://pandas.pydata.org/pandas-docs/stable/user_guide/indexing.html#returning-a-view-versus-a-copy\n",
      "  Dim_Articulo_5.drop_duplicates(inplace=True)\n"
     ]
    }
   ],
   "source": [
    "Dim_Articulo_5.drop_duplicates(inplace=True)"
   ]
  },
  {
   "cell_type": "code",
   "execution_count": 94,
   "metadata": {},
   "outputs": [
    {
     "name": "stdout",
     "output_type": "stream",
     "text": [
      "<class 'pandas.core.frame.DataFrame'>\n",
      "Index: 17298 entries, 0 to 12590343\n",
      "Data columns (total 8 columns):\n",
      " #   Column           Non-Null Count  Dtype \n",
      "---  ------           --------------  ----- \n",
      " 0   Id Articulo      17298 non-null  int64 \n",
      " 1   Nombre Articulo  17298 non-null  object\n",
      " 2   Categoria        17298 non-null  object\n",
      " 3   Nombre Vendedor  17298 non-null  object\n",
      " 4   Pack             17298 non-null  int64 \n",
      " 5   Tamaño (ml)      17298 non-null  int64 \n",
      " 6   Precio Coste     17298 non-null  object\n",
      " 7   Precio Venta     17298 non-null  object\n",
      "dtypes: int64(3), object(5)\n",
      "memory usage: 1.2+ MB\n"
     ]
    }
   ],
   "source": [
    "Dim_Articulo_5.info()"
   ]
  },
  {
   "cell_type": "code",
   "execution_count": 95,
   "metadata": {},
   "outputs": [],
   "source": [
    "#Estraer df\n",
    "Dim_Articulo_5.to_csv(\"Bd/Dim/Dim_Articulo.csv\", index=False)  # index=False para no guardar el índice como columna"
   ]
  }
 ],
 "metadata": {
  "kernelspec": {
   "display_name": "trabajo",
   "language": "python",
   "name": "python3"
  },
  "language_info": {
   "codemirror_mode": {
    "name": "ipython",
    "version": 3
   },
   "file_extension": ".py",
   "mimetype": "text/x-python",
   "name": "python",
   "nbconvert_exporter": "python",
   "pygments_lexer": "ipython3",
   "version": "3.10.14"
  }
 },
 "nbformat": 4,
 "nbformat_minor": 2
}
